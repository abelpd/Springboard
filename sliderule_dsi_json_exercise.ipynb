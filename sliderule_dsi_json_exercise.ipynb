{
 "cells": [
  {
   "cell_type": "markdown",
   "metadata": {},
   "source": [
    "# JSON examples and exercise\n",
    "****\n",
    "+ get familiar with packages for dealing with JSON\n",
    "+ study examples with JSON strings and files \n",
    "+ work on exercise to be completed and submitted \n",
    "****\n",
    "+ reference: http://pandas.pydata.org/pandas-docs/stable/io.html#io-json-reader\n",
    "+ data source: http://jsonstudio.com/resources/\n",
    "****"
   ]
  },
  {
   "cell_type": "code",
   "execution_count": 1,
   "metadata": {},
   "outputs": [],
   "source": [
    "import pandas as pd"
   ]
  },
  {
   "cell_type": "markdown",
   "metadata": {},
   "source": [
    "## imports for Python, Pandas"
   ]
  },
  {
   "cell_type": "code",
   "execution_count": 2,
   "metadata": {},
   "outputs": [],
   "source": [
    "import json\n",
    "from pandas.io.json import json_normalize"
   ]
  },
  {
   "cell_type": "markdown",
   "metadata": {},
   "source": [
    "## JSON example, with string\n",
    "\n",
    "+ demonstrates creation of normalized dataframes (tables) from nested json string\n",
    "+ source: http://pandas.pydata.org/pandas-docs/stable/io.html#normalization"
   ]
  },
  {
   "cell_type": "code",
   "execution_count": 3,
   "metadata": {},
   "outputs": [],
   "source": [
    "# define json string\n",
    "data = [{'state': 'Florida', \n",
    "         'shortname': 'FL',\n",
    "         'info': {'governor': 'Rick Scott'},\n",
    "         'counties': [{'name': 'Dade', 'population': 12345},\n",
    "                      {'name': 'Broward', 'population': 40000},\n",
    "                      {'name': 'Palm Beach', 'population': 60000}]},\n",
    "        {'state': 'Ohio',\n",
    "         'shortname': 'OH',\n",
    "         'info': {'governor': 'John Kasich'},\n",
    "         'counties': [{'name': 'Summit', 'population': 1234},\n",
    "                      {'name': 'Cuyahoga', 'population': 1337}]}]"
   ]
  },
  {
   "cell_type": "code",
   "execution_count": 4,
   "metadata": {},
   "outputs": [
    {
     "data": {
      "text/html": [
       "<div>\n",
       "<style scoped>\n",
       "    .dataframe tbody tr th:only-of-type {\n",
       "        vertical-align: middle;\n",
       "    }\n",
       "\n",
       "    .dataframe tbody tr th {\n",
       "        vertical-align: top;\n",
       "    }\n",
       "\n",
       "    .dataframe thead th {\n",
       "        text-align: right;\n",
       "    }\n",
       "</style>\n",
       "<table border=\"1\" class=\"dataframe\">\n",
       "  <thead>\n",
       "    <tr style=\"text-align: right;\">\n",
       "      <th></th>\n",
       "      <th>name</th>\n",
       "      <th>population</th>\n",
       "    </tr>\n",
       "  </thead>\n",
       "  <tbody>\n",
       "    <tr>\n",
       "      <th>0</th>\n",
       "      <td>Dade</td>\n",
       "      <td>12345</td>\n",
       "    </tr>\n",
       "    <tr>\n",
       "      <th>1</th>\n",
       "      <td>Broward</td>\n",
       "      <td>40000</td>\n",
       "    </tr>\n",
       "    <tr>\n",
       "      <th>2</th>\n",
       "      <td>Palm Beach</td>\n",
       "      <td>60000</td>\n",
       "    </tr>\n",
       "    <tr>\n",
       "      <th>3</th>\n",
       "      <td>Summit</td>\n",
       "      <td>1234</td>\n",
       "    </tr>\n",
       "    <tr>\n",
       "      <th>4</th>\n",
       "      <td>Cuyahoga</td>\n",
       "      <td>1337</td>\n",
       "    </tr>\n",
       "  </tbody>\n",
       "</table>\n",
       "</div>"
      ],
      "text/plain": [
       "         name  population\n",
       "0        Dade       12345\n",
       "1     Broward       40000\n",
       "2  Palm Beach       60000\n",
       "3      Summit        1234\n",
       "4    Cuyahoga        1337"
      ]
     },
     "execution_count": 4,
     "metadata": {},
     "output_type": "execute_result"
    }
   ],
   "source": [
    "# use normalization to create tables from nested element\n",
    "json_normalize(data, 'counties')"
   ]
  },
  {
   "cell_type": "code",
   "execution_count": 5,
   "metadata": {},
   "outputs": [
    {
     "data": {
      "text/html": [
       "<div>\n",
       "<style scoped>\n",
       "    .dataframe tbody tr th:only-of-type {\n",
       "        vertical-align: middle;\n",
       "    }\n",
       "\n",
       "    .dataframe tbody tr th {\n",
       "        vertical-align: top;\n",
       "    }\n",
       "\n",
       "    .dataframe thead th {\n",
       "        text-align: right;\n",
       "    }\n",
       "</style>\n",
       "<table border=\"1\" class=\"dataframe\">\n",
       "  <thead>\n",
       "    <tr style=\"text-align: right;\">\n",
       "      <th></th>\n",
       "      <th>name</th>\n",
       "      <th>population</th>\n",
       "      <th>state</th>\n",
       "      <th>shortname</th>\n",
       "      <th>info.governor</th>\n",
       "    </tr>\n",
       "  </thead>\n",
       "  <tbody>\n",
       "    <tr>\n",
       "      <th>0</th>\n",
       "      <td>Dade</td>\n",
       "      <td>12345</td>\n",
       "      <td>Florida</td>\n",
       "      <td>FL</td>\n",
       "      <td>Rick Scott</td>\n",
       "    </tr>\n",
       "    <tr>\n",
       "      <th>1</th>\n",
       "      <td>Broward</td>\n",
       "      <td>40000</td>\n",
       "      <td>Florida</td>\n",
       "      <td>FL</td>\n",
       "      <td>Rick Scott</td>\n",
       "    </tr>\n",
       "    <tr>\n",
       "      <th>2</th>\n",
       "      <td>Palm Beach</td>\n",
       "      <td>60000</td>\n",
       "      <td>Florida</td>\n",
       "      <td>FL</td>\n",
       "      <td>Rick Scott</td>\n",
       "    </tr>\n",
       "    <tr>\n",
       "      <th>3</th>\n",
       "      <td>Summit</td>\n",
       "      <td>1234</td>\n",
       "      <td>Ohio</td>\n",
       "      <td>OH</td>\n",
       "      <td>John Kasich</td>\n",
       "    </tr>\n",
       "    <tr>\n",
       "      <th>4</th>\n",
       "      <td>Cuyahoga</td>\n",
       "      <td>1337</td>\n",
       "      <td>Ohio</td>\n",
       "      <td>OH</td>\n",
       "      <td>John Kasich</td>\n",
       "    </tr>\n",
       "  </tbody>\n",
       "</table>\n",
       "</div>"
      ],
      "text/plain": [
       "         name  population    state shortname info.governor\n",
       "0        Dade       12345  Florida        FL    Rick Scott\n",
       "1     Broward       40000  Florida        FL    Rick Scott\n",
       "2  Palm Beach       60000  Florida        FL    Rick Scott\n",
       "3      Summit        1234     Ohio        OH   John Kasich\n",
       "4    Cuyahoga        1337     Ohio        OH   John Kasich"
      ]
     },
     "execution_count": 5,
     "metadata": {},
     "output_type": "execute_result"
    }
   ],
   "source": [
    "# further populate tables created from nested element\n",
    "json_normalize(data, 'counties', ['state', 'shortname', ['info', 'governor']])"
   ]
  },
  {
   "cell_type": "markdown",
   "metadata": {},
   "source": [
    "****\n",
    "## JSON example, with file\n",
    "\n",
    "+ demonstrates reading in a json file as a string and as a table\n",
    "+ uses small sample file containing data about projects funded by the World Bank \n",
    "+ data source: http://jsonstudio.com/resources/"
   ]
  },
  {
   "cell_type": "code",
   "execution_count": 6,
   "metadata": {},
   "outputs": [
    {
     "data": {
      "text/plain": [
       "[{'_id': {'$oid': '52b213b38594d8a2be17c780'},\n",
       "  'approvalfy': 1999,\n",
       "  'board_approval_month': 'November',\n",
       "  'boardapprovaldate': '2013-11-12T00:00:00Z',\n",
       "  'borrower': 'FEDERAL DEMOCRATIC REPUBLIC OF ETHIOPIA',\n",
       "  'closingdate': '2018-07-07T00:00:00Z',\n",
       "  'country_namecode': 'Federal Democratic Republic of Ethiopia!$!ET',\n",
       "  'countrycode': 'ET',\n",
       "  'countryname': 'Federal Democratic Republic of Ethiopia',\n",
       "  'countryshortname': 'Ethiopia',\n",
       "  'docty': 'Project Information Document,Indigenous Peoples Plan,Project Information Document',\n",
       "  'envassesmentcategorycode': 'C',\n",
       "  'grantamt': 0,\n",
       "  'ibrdcommamt': 0,\n",
       "  'id': 'P129828',\n",
       "  'idacommamt': 130000000,\n",
       "  'impagency': 'MINISTRY OF EDUCATION',\n",
       "  'lendinginstr': 'Investment Project Financing',\n",
       "  'lendinginstrtype': 'IN',\n",
       "  'lendprojectcost': 550000000,\n",
       "  'majorsector_percent': [{'Name': 'Education', 'Percent': 46},\n",
       "   {'Name': 'Education', 'Percent': 26},\n",
       "   {'Name': 'Public Administration, Law, and Justice', 'Percent': 16},\n",
       "   {'Name': 'Education', 'Percent': 12}],\n",
       "  'mjsector_namecode': [{'name': 'Education', 'code': 'EX'},\n",
       "   {'name': 'Education', 'code': 'EX'},\n",
       "   {'name': 'Public Administration, Law, and Justice', 'code': 'BX'},\n",
       "   {'name': 'Education', 'code': 'EX'}],\n",
       "  'mjtheme': ['Human development'],\n",
       "  'mjtheme_namecode': [{'name': 'Human development', 'code': '8'},\n",
       "   {'name': '', 'code': '11'}],\n",
       "  'mjthemecode': '8,11',\n",
       "  'prodline': 'PE',\n",
       "  'prodlinetext': 'IBRD/IDA',\n",
       "  'productlinetype': 'L',\n",
       "  'project_abstract': {'cdata': 'The development objective of the Second Phase of General Education Quality Improvement Project for Ethiopia is to improve learning conditions in primary and secondary schools and strengthen institutions at different levels of educational administration. The project has six components. The first component is curriculum, textbooks, assessment, examinations, and inspection. This component will support improvement of learning conditions in grades KG-12 by providing increased access to teaching and learning materials and through improvements to the curriculum by assessing the strengths and weaknesses of the current curriculum. This component has following four sub-components: (i) curriculum reform and implementation; (ii) teaching and learning materials; (iii) assessment and examinations; and (iv) inspection. The second component is teacher development program (TDP). This component will support improvements in learning conditions in both primary and secondary schools by advancing the quality of teaching in general education through: (a) enhancing the training of pre-service teachers in teacher education institutions; and (b) improving the quality of in-service teacher training. This component has following three sub-components: (i) pre-service teacher training; (ii) in-service teacher training; and (iii) licensing and relicensing of teachers and school leaders. The third component is school improvement plan. This component will support the strengthening of school planning in order to improve learning outcomes, and to partly fund the school improvement plans through school grants. It has following two sub-components: (i) school improvement plan; and (ii) school grants. The fourth component is management and capacity building, including education management information systems (EMIS). This component will support management and capacity building aspect of the project. This component has following three sub-components: (i) capacity building for education planning and management; (ii) capacity building for school planning and management; and (iii) EMIS. The fifth component is improving the quality of learning and teaching in secondary schools and universities through the use of information and communications technology (ICT). It has following five sub-components: (i) national policy and institution for ICT in general education; (ii) national ICT infrastructure improvement plan for general education; (iii) develop an integrated monitoring, evaluation, and learning system specifically for the ICT component; (iv) teacher professional development in the use of ICT; and (v) provision of limited number of e-Braille display readers with the possibility to scale up to all secondary education schools based on the successful implementation and usage of the readers. The sixth component is program coordination, monitoring and evaluation, and communication. It will support institutional strengthening by developing capacities in all aspects of program coordination, monitoring and evaluation; a new sub-component on communications will support information sharing for better management and accountability. It has following three sub-components: (i) program coordination; (ii) monitoring and evaluation (M and E); and (iii) communication.'},\n",
       "  'project_name': 'Ethiopia General Education Quality Improvement Project II',\n",
       "  'projectdocs': [{'DocTypeDesc': 'Project Information Document (PID),  Vol.',\n",
       "    'DocType': 'PID',\n",
       "    'EntityID': '090224b081e545fb_1_0',\n",
       "    'DocURL': 'http://www-wds.worldbank.org/servlet/WDSServlet?pcont=details&eid=090224b081e545fb_1_0',\n",
       "    'DocDate': '28-AUG-2013'},\n",
       "   {'DocTypeDesc': 'Indigenous Peoples Plan (IP),  Vol.1 of 1',\n",
       "    'DocType': 'IP',\n",
       "    'EntityID': '000442464_20130920111729',\n",
       "    'DocURL': 'http://www-wds.worldbank.org/servlet/WDSServlet?pcont=details&eid=000442464_20130920111729',\n",
       "    'DocDate': '01-JUL-2013'},\n",
       "   {'DocTypeDesc': 'Project Information Document (PID),  Vol.',\n",
       "    'DocType': 'PID',\n",
       "    'EntityID': '090224b0817b19e2_1_0',\n",
       "    'DocURL': 'http://www-wds.worldbank.org/servlet/WDSServlet?pcont=details&eid=090224b0817b19e2_1_0',\n",
       "    'DocDate': '22-NOV-2012'}],\n",
       "  'projectfinancialtype': 'IDA',\n",
       "  'projectstatusdisplay': 'Active',\n",
       "  'regionname': 'Africa',\n",
       "  'sector': [{'Name': 'Primary education'},\n",
       "   {'Name': 'Secondary education'},\n",
       "   {'Name': 'Public administration- Other social services'},\n",
       "   {'Name': 'Tertiary education'}],\n",
       "  'sector1': {'Name': 'Primary education', 'Percent': 46},\n",
       "  'sector2': {'Name': 'Secondary education', 'Percent': 26},\n",
       "  'sector3': {'Name': 'Public administration- Other social services',\n",
       "   'Percent': 16},\n",
       "  'sector4': {'Name': 'Tertiary education', 'Percent': 12},\n",
       "  'sector_namecode': [{'name': 'Primary education', 'code': 'EP'},\n",
       "   {'name': 'Secondary education', 'code': 'ES'},\n",
       "   {'name': 'Public administration- Other social services', 'code': 'BS'},\n",
       "   {'name': 'Tertiary education', 'code': 'ET'}],\n",
       "  'sectorcode': 'ET,BS,ES,EP',\n",
       "  'source': 'IBRD',\n",
       "  'status': 'Active',\n",
       "  'supplementprojectflg': 'N',\n",
       "  'theme1': {'Name': 'Education for all', 'Percent': 100},\n",
       "  'theme_namecode': [{'name': 'Education for all', 'code': '65'}],\n",
       "  'themecode': '65',\n",
       "  'totalamt': 130000000,\n",
       "  'totalcommamt': 130000000,\n",
       "  'url': 'http://www.worldbank.org/projects/P129828/ethiopia-general-education-quality-improvement-project-ii?lang=en'},\n",
       " {'_id': {'$oid': '52b213b38594d8a2be17c781'},\n",
       "  'approvalfy': 2015,\n",
       "  'board_approval_month': 'November',\n",
       "  'boardapprovaldate': '2013-11-04T00:00:00Z',\n",
       "  'borrower': 'GOVERNMENT OF TUNISIA',\n",
       "  'country_namecode': 'Republic of Tunisia!$!TN',\n",
       "  'countrycode': 'TN',\n",
       "  'countryname': 'Republic of Tunisia',\n",
       "  'countryshortname': 'Tunisia',\n",
       "  'docty': 'Project Information Document,Integrated Safeguards Data Sheet,Integrated Safeguards Data Sheet,Project Information Document,Integrated Safeguards Data Sheet,Project Information Document',\n",
       "  'envassesmentcategorycode': 'C',\n",
       "  'grantamt': 4700000,\n",
       "  'ibrdcommamt': 0,\n",
       "  'id': 'P144674',\n",
       "  'idacommamt': 0,\n",
       "  'impagency': 'MINISTRY OF FINANCE',\n",
       "  'lendinginstr': 'Specific Investment Loan',\n",
       "  'lendinginstrtype': 'IN',\n",
       "  'lendprojectcost': 5700000,\n",
       "  'majorsector_percent': [{'Name': 'Public Administration, Law, and Justice',\n",
       "    'Percent': 70},\n",
       "   {'Name': 'Public Administration, Law, and Justice', 'Percent': 30}],\n",
       "  'mjsector_namecode': [{'name': 'Public Administration, Law, and Justice',\n",
       "    'code': 'BX'},\n",
       "   {'name': 'Public Administration, Law, and Justice', 'code': 'BX'}],\n",
       "  'mjtheme': ['Economic management', 'Social protection and risk management'],\n",
       "  'mjtheme_namecode': [{'name': 'Economic management', 'code': '1'},\n",
       "   {'name': 'Social protection and risk management', 'code': '6'}],\n",
       "  'mjthemecode': '1,6',\n",
       "  'prodline': 'RE',\n",
       "  'prodlinetext': 'Recipient Executed Activities',\n",
       "  'productlinetype': 'L',\n",
       "  'project_name': 'TN: DTF Social Protection Reforms Support',\n",
       "  'projectdocs': [{'DocTypeDesc': 'Project Information Document (PID),  Vol.1 of 1',\n",
       "    'DocType': 'PID',\n",
       "    'EntityID': '000333037_20131024115616',\n",
       "    'DocURL': 'http://www-wds.worldbank.org/servlet/WDSServlet?pcont=details&eid=000333037_20131024115616',\n",
       "    'DocDate': '29-MAR-2013'},\n",
       "   {'DocTypeDesc': 'Integrated Safeguards Data Sheet (ISDS),  Vol.1 of 1',\n",
       "    'DocType': 'ISDS',\n",
       "    'EntityID': '000356161_20131024151611',\n",
       "    'DocURL': 'http://www-wds.worldbank.org/servlet/WDSServlet?pcont=details&eid=000356161_20131024151611',\n",
       "    'DocDate': '29-MAR-2013'},\n",
       "   {'DocTypeDesc': 'Integrated Safeguards Data Sheet (ISDS),  Vol.1 of 1',\n",
       "    'DocType': 'ISDS',\n",
       "    'EntityID': '000442464_20131031112136',\n",
       "    'DocURL': 'http://www-wds.worldbank.org/servlet/WDSServlet?pcont=details&eid=000442464_20131031112136',\n",
       "    'DocDate': '29-MAR-2013'},\n",
       "   {'DocTypeDesc': 'Project Information Document (PID),  Vol.1 of 1',\n",
       "    'DocType': 'PID',\n",
       "    'EntityID': '000333037_20131031105716',\n",
       "    'DocURL': 'http://www-wds.worldbank.org/servlet/WDSServlet?pcont=details&eid=000333037_20131031105716',\n",
       "    'DocDate': '29-MAR-2013'},\n",
       "   {'DocTypeDesc': 'Integrated Safeguards Data Sheet (ISDS),  Vol.1 of 1',\n",
       "    'DocType': 'ISDS',\n",
       "    'EntityID': '000356161_20130305113209',\n",
       "    'DocURL': 'http://www-wds.worldbank.org/servlet/WDSServlet?pcont=details&eid=000356161_20130305113209',\n",
       "    'DocDate': '16-JAN-2013'},\n",
       "   {'DocTypeDesc': 'Project Information Document (PID),  Vol.1 of 1',\n",
       "    'DocType': 'PID',\n",
       "    'EntityID': '000356161_20130305113716',\n",
       "    'DocURL': 'http://www-wds.worldbank.org/servlet/WDSServlet?pcont=details&eid=000356161_20130305113716',\n",
       "    'DocDate': '16-JAN-2013'}],\n",
       "  'projectfinancialtype': 'OTHER',\n",
       "  'projectstatusdisplay': 'Active',\n",
       "  'regionname': 'Middle East and North Africa',\n",
       "  'sector': [{'Name': 'Public administration- Other social services'},\n",
       "   {'Name': 'General public administration sector'}],\n",
       "  'sector1': {'Name': 'Public administration- Other social services',\n",
       "   'Percent': 70},\n",
       "  'sector2': {'Name': 'General public administration sector', 'Percent': 30},\n",
       "  'sector_namecode': [{'name': 'Public administration- Other social services',\n",
       "    'code': 'BS'},\n",
       "   {'name': 'General public administration sector', 'code': 'BZ'}],\n",
       "  'sectorcode': 'BZ,BS',\n",
       "  'source': 'IBRD',\n",
       "  'status': 'Active',\n",
       "  'supplementprojectflg': 'N',\n",
       "  'theme1': {'Name': 'Other economic management', 'Percent': 30},\n",
       "  'theme_namecode': [{'name': 'Other economic management', 'code': '24'},\n",
       "   {'name': 'Social safety nets', 'code': '54'}],\n",
       "  'themecode': '54,24',\n",
       "  'totalamt': 0,\n",
       "  'totalcommamt': 4700000,\n",
       "  'url': 'http://www.worldbank.org/projects/P144674?lang=en'}]"
      ]
     },
     "execution_count": 6,
     "metadata": {},
     "output_type": "execute_result"
    }
   ],
   "source": [
    "# load json as string\n",
    "json.load((open('data/world_bank_projects_less.json')))"
   ]
  },
  {
   "cell_type": "code",
   "execution_count": 7,
   "metadata": {},
   "outputs": [
    {
     "data": {
      "text/html": [
       "<div>\n",
       "<style scoped>\n",
       "    .dataframe tbody tr th:only-of-type {\n",
       "        vertical-align: middle;\n",
       "    }\n",
       "\n",
       "    .dataframe tbody tr th {\n",
       "        vertical-align: top;\n",
       "    }\n",
       "\n",
       "    .dataframe thead th {\n",
       "        text-align: right;\n",
       "    }\n",
       "</style>\n",
       "<table border=\"1\" class=\"dataframe\">\n",
       "  <thead>\n",
       "    <tr style=\"text-align: right;\">\n",
       "      <th></th>\n",
       "      <th>_id</th>\n",
       "      <th>approvalfy</th>\n",
       "      <th>board_approval_month</th>\n",
       "      <th>boardapprovaldate</th>\n",
       "      <th>borrower</th>\n",
       "      <th>closingdate</th>\n",
       "      <th>country_namecode</th>\n",
       "      <th>countrycode</th>\n",
       "      <th>countryname</th>\n",
       "      <th>countryshortname</th>\n",
       "      <th>...</th>\n",
       "      <th>sectorcode</th>\n",
       "      <th>source</th>\n",
       "      <th>status</th>\n",
       "      <th>supplementprojectflg</th>\n",
       "      <th>theme1</th>\n",
       "      <th>theme_namecode</th>\n",
       "      <th>themecode</th>\n",
       "      <th>totalamt</th>\n",
       "      <th>totalcommamt</th>\n",
       "      <th>url</th>\n",
       "    </tr>\n",
       "  </thead>\n",
       "  <tbody>\n",
       "    <tr>\n",
       "      <th>0</th>\n",
       "      <td>{'$oid': '52b213b38594d8a2be17c780'}</td>\n",
       "      <td>1999</td>\n",
       "      <td>November</td>\n",
       "      <td>2013-11-12T00:00:00Z</td>\n",
       "      <td>FEDERAL DEMOCRATIC REPUBLIC OF ETHIOPIA</td>\n",
       "      <td>2018-07-07T00:00:00Z</td>\n",
       "      <td>Federal Democratic Republic of Ethiopia!$!ET</td>\n",
       "      <td>ET</td>\n",
       "      <td>Federal Democratic Republic of Ethiopia</td>\n",
       "      <td>Ethiopia</td>\n",
       "      <td>...</td>\n",
       "      <td>ET,BS,ES,EP</td>\n",
       "      <td>IBRD</td>\n",
       "      <td>Active</td>\n",
       "      <td>N</td>\n",
       "      <td>{'Name': 'Education for all', 'Percent': 100}</td>\n",
       "      <td>[{'name': 'Education for all', 'code': '65'}]</td>\n",
       "      <td>65</td>\n",
       "      <td>130000000</td>\n",
       "      <td>130000000</td>\n",
       "      <td>http://www.worldbank.org/projects/P129828/ethi...</td>\n",
       "    </tr>\n",
       "    <tr>\n",
       "      <th>1</th>\n",
       "      <td>{'$oid': '52b213b38594d8a2be17c781'}</td>\n",
       "      <td>2015</td>\n",
       "      <td>November</td>\n",
       "      <td>2013-11-04T00:00:00Z</td>\n",
       "      <td>GOVERNMENT OF TUNISIA</td>\n",
       "      <td>NaN</td>\n",
       "      <td>Republic of Tunisia!$!TN</td>\n",
       "      <td>TN</td>\n",
       "      <td>Republic of Tunisia</td>\n",
       "      <td>Tunisia</td>\n",
       "      <td>...</td>\n",
       "      <td>BZ,BS</td>\n",
       "      <td>IBRD</td>\n",
       "      <td>Active</td>\n",
       "      <td>N</td>\n",
       "      <td>{'Name': 'Other economic management', 'Percent...</td>\n",
       "      <td>[{'name': 'Other economic management', 'code':...</td>\n",
       "      <td>54,24</td>\n",
       "      <td>0</td>\n",
       "      <td>4700000</td>\n",
       "      <td>http://www.worldbank.org/projects/P144674?lang=en</td>\n",
       "    </tr>\n",
       "  </tbody>\n",
       "</table>\n",
       "<p>2 rows × 50 columns</p>\n",
       "</div>"
      ],
      "text/plain": [
       "                                    _id  approvalfy board_approval_month  \\\n",
       "0  {'$oid': '52b213b38594d8a2be17c780'}        1999             November   \n",
       "1  {'$oid': '52b213b38594d8a2be17c781'}        2015             November   \n",
       "\n",
       "      boardapprovaldate                                 borrower  \\\n",
       "0  2013-11-12T00:00:00Z  FEDERAL DEMOCRATIC REPUBLIC OF ETHIOPIA   \n",
       "1  2013-11-04T00:00:00Z                    GOVERNMENT OF TUNISIA   \n",
       "\n",
       "            closingdate                              country_namecode  \\\n",
       "0  2018-07-07T00:00:00Z  Federal Democratic Republic of Ethiopia!$!ET   \n",
       "1                   NaN                      Republic of Tunisia!$!TN   \n",
       "\n",
       "  countrycode                              countryname countryshortname  ...  \\\n",
       "0          ET  Federal Democratic Republic of Ethiopia         Ethiopia  ...   \n",
       "1          TN                      Republic of Tunisia          Tunisia  ...   \n",
       "\n",
       "    sectorcode source  status  supplementprojectflg  \\\n",
       "0  ET,BS,ES,EP   IBRD  Active                     N   \n",
       "1        BZ,BS   IBRD  Active                     N   \n",
       "\n",
       "                                              theme1  \\\n",
       "0      {'Name': 'Education for all', 'Percent': 100}   \n",
       "1  {'Name': 'Other economic management', 'Percent...   \n",
       "\n",
       "                                      theme_namecode themecode   totalamt  \\\n",
       "0      [{'name': 'Education for all', 'code': '65'}]        65  130000000   \n",
       "1  [{'name': 'Other economic management', 'code':...     54,24          0   \n",
       "\n",
       "  totalcommamt                                                url  \n",
       "0    130000000  http://www.worldbank.org/projects/P129828/ethi...  \n",
       "1      4700000  http://www.worldbank.org/projects/P144674?lang=en  \n",
       "\n",
       "[2 rows x 50 columns]"
      ]
     },
     "execution_count": 7,
     "metadata": {},
     "output_type": "execute_result"
    }
   ],
   "source": [
    "# load as Pandas dataframe\n",
    "sample_json_df = pd.read_json('data/world_bank_projects_less.json', encoding='utf-8')\n",
    "sample_json_df"
   ]
  },
  {
   "cell_type": "markdown",
   "metadata": {},
   "source": [
    "****\n",
    "## JSON exercise\n",
    "\n",
    "Using data in file 'data/world_bank_projects.json' and the techniques demonstrated above,\n",
    "1. Find the 10 countries with most projects\n",
    "2. Find the top 10 major project themes (using column 'mjtheme_namecode')\n",
    "3. In 2. above you will notice that some entries have only the code and the name is missing. Create a dataframe with the missing names filled in."
   ]
  },
  {
   "cell_type": "code",
   "execution_count": 8,
   "metadata": {},
   "outputs": [],
   "source": [
    "from matplotlib import pyplot as plt"
   ]
  },
  {
   "cell_type": "code",
   "execution_count": 9,
   "metadata": {},
   "outputs": [],
   "source": [
    "# 1. Find the 10 countries with most projects"
   ]
  },
  {
   "cell_type": "code",
   "execution_count": 10,
   "metadata": {},
   "outputs": [],
   "source": [
    "#load json into variable - utf-8 encoding\n",
    "wb_json_df = pd.read_json('data\\world_bank_projects.json', encoding='utf-8')"
   ]
  },
  {
   "cell_type": "code",
   "execution_count": 11,
   "metadata": {},
   "outputs": [
    {
     "data": {
      "text/html": [
       "<div>\n",
       "<style scoped>\n",
       "    .dataframe tbody tr th:only-of-type {\n",
       "        vertical-align: middle;\n",
       "    }\n",
       "\n",
       "    .dataframe tbody tr th {\n",
       "        vertical-align: top;\n",
       "    }\n",
       "\n",
       "    .dataframe thead th {\n",
       "        text-align: right;\n",
       "    }\n",
       "</style>\n",
       "<table border=\"1\" class=\"dataframe\">\n",
       "  <thead>\n",
       "    <tr style=\"text-align: right;\">\n",
       "      <th></th>\n",
       "      <th>_id</th>\n",
       "      <th>approvalfy</th>\n",
       "      <th>board_approval_month</th>\n",
       "      <th>boardapprovaldate</th>\n",
       "      <th>borrower</th>\n",
       "      <th>closingdate</th>\n",
       "      <th>country_namecode</th>\n",
       "      <th>countrycode</th>\n",
       "      <th>countryname</th>\n",
       "      <th>countryshortname</th>\n",
       "      <th>...</th>\n",
       "      <th>sectorcode</th>\n",
       "      <th>source</th>\n",
       "      <th>status</th>\n",
       "      <th>supplementprojectflg</th>\n",
       "      <th>theme1</th>\n",
       "      <th>theme_namecode</th>\n",
       "      <th>themecode</th>\n",
       "      <th>totalamt</th>\n",
       "      <th>totalcommamt</th>\n",
       "      <th>url</th>\n",
       "    </tr>\n",
       "  </thead>\n",
       "  <tbody>\n",
       "    <tr>\n",
       "      <th>0</th>\n",
       "      <td>{'$oid': '52b213b38594d8a2be17c780'}</td>\n",
       "      <td>1999</td>\n",
       "      <td>November</td>\n",
       "      <td>2013-11-12T00:00:00Z</td>\n",
       "      <td>FEDERAL DEMOCRATIC REPUBLIC OF ETHIOPIA</td>\n",
       "      <td>2018-07-07T00:00:00Z</td>\n",
       "      <td>Federal Democratic Republic of Ethiopia!$!ET</td>\n",
       "      <td>ET</td>\n",
       "      <td>Federal Democratic Republic of Ethiopia</td>\n",
       "      <td>Ethiopia</td>\n",
       "      <td>...</td>\n",
       "      <td>ET,BS,ES,EP</td>\n",
       "      <td>IBRD</td>\n",
       "      <td>Active</td>\n",
       "      <td>N</td>\n",
       "      <td>{'Percent': 100, 'Name': 'Education for all'}</td>\n",
       "      <td>[{'code': '65', 'name': 'Education for all'}]</td>\n",
       "      <td>65</td>\n",
       "      <td>130000000</td>\n",
       "      <td>130000000</td>\n",
       "      <td>http://www.worldbank.org/projects/P129828/ethi...</td>\n",
       "    </tr>\n",
       "    <tr>\n",
       "      <th>1</th>\n",
       "      <td>{'$oid': '52b213b38594d8a2be17c781'}</td>\n",
       "      <td>2015</td>\n",
       "      <td>November</td>\n",
       "      <td>2013-11-04T00:00:00Z</td>\n",
       "      <td>GOVERNMENT OF TUNISIA</td>\n",
       "      <td>NaN</td>\n",
       "      <td>Republic of Tunisia!$!TN</td>\n",
       "      <td>TN</td>\n",
       "      <td>Republic of Tunisia</td>\n",
       "      <td>Tunisia</td>\n",
       "      <td>...</td>\n",
       "      <td>BZ,BS</td>\n",
       "      <td>IBRD</td>\n",
       "      <td>Active</td>\n",
       "      <td>N</td>\n",
       "      <td>{'Percent': 30, 'Name': 'Other economic manage...</td>\n",
       "      <td>[{'code': '24', 'name': 'Other economic manage...</td>\n",
       "      <td>54,24</td>\n",
       "      <td>0</td>\n",
       "      <td>4700000</td>\n",
       "      <td>http://www.worldbank.org/projects/P144674?lang=en</td>\n",
       "    </tr>\n",
       "    <tr>\n",
       "      <th>2</th>\n",
       "      <td>{'$oid': '52b213b38594d8a2be17c782'}</td>\n",
       "      <td>2014</td>\n",
       "      <td>November</td>\n",
       "      <td>2013-11-01T00:00:00Z</td>\n",
       "      <td>MINISTRY OF FINANCE AND ECONOMIC DEVEL</td>\n",
       "      <td>NaN</td>\n",
       "      <td>Tuvalu!$!TV</td>\n",
       "      <td>TV</td>\n",
       "      <td>Tuvalu</td>\n",
       "      <td>Tuvalu</td>\n",
       "      <td>...</td>\n",
       "      <td>TI</td>\n",
       "      <td>IBRD</td>\n",
       "      <td>Active</td>\n",
       "      <td>Y</td>\n",
       "      <td>{'Percent': 46, 'Name': 'Regional integration'}</td>\n",
       "      <td>[{'code': '47', 'name': 'Regional integration'...</td>\n",
       "      <td>52,81,25,47</td>\n",
       "      <td>6060000</td>\n",
       "      <td>6060000</td>\n",
       "      <td>http://www.worldbank.org/projects/P145310?lang=en</td>\n",
       "    </tr>\n",
       "  </tbody>\n",
       "</table>\n",
       "<p>3 rows × 50 columns</p>\n",
       "</div>"
      ],
      "text/plain": [
       "                                    _id  approvalfy board_approval_month  \\\n",
       "0  {'$oid': '52b213b38594d8a2be17c780'}        1999             November   \n",
       "1  {'$oid': '52b213b38594d8a2be17c781'}        2015             November   \n",
       "2  {'$oid': '52b213b38594d8a2be17c782'}        2014             November   \n",
       "\n",
       "      boardapprovaldate                                 borrower  \\\n",
       "0  2013-11-12T00:00:00Z  FEDERAL DEMOCRATIC REPUBLIC OF ETHIOPIA   \n",
       "1  2013-11-04T00:00:00Z                    GOVERNMENT OF TUNISIA   \n",
       "2  2013-11-01T00:00:00Z   MINISTRY OF FINANCE AND ECONOMIC DEVEL   \n",
       "\n",
       "            closingdate                              country_namecode  \\\n",
       "0  2018-07-07T00:00:00Z  Federal Democratic Republic of Ethiopia!$!ET   \n",
       "1                   NaN                      Republic of Tunisia!$!TN   \n",
       "2                   NaN                                   Tuvalu!$!TV   \n",
       "\n",
       "  countrycode                              countryname countryshortname  ...  \\\n",
       "0          ET  Federal Democratic Republic of Ethiopia         Ethiopia  ...   \n",
       "1          TN                      Republic of Tunisia          Tunisia  ...   \n",
       "2          TV                                   Tuvalu           Tuvalu  ...   \n",
       "\n",
       "    sectorcode source  status  supplementprojectflg  \\\n",
       "0  ET,BS,ES,EP   IBRD  Active                     N   \n",
       "1        BZ,BS   IBRD  Active                     N   \n",
       "2           TI   IBRD  Active                     Y   \n",
       "\n",
       "                                              theme1  \\\n",
       "0      {'Percent': 100, 'Name': 'Education for all'}   \n",
       "1  {'Percent': 30, 'Name': 'Other economic manage...   \n",
       "2    {'Percent': 46, 'Name': 'Regional integration'}   \n",
       "\n",
       "                                      theme_namecode    themecode   totalamt  \\\n",
       "0      [{'code': '65', 'name': 'Education for all'}]           65  130000000   \n",
       "1  [{'code': '24', 'name': 'Other economic manage...        54,24          0   \n",
       "2  [{'code': '47', 'name': 'Regional integration'...  52,81,25,47    6060000   \n",
       "\n",
       "  totalcommamt                                                url  \n",
       "0    130000000  http://www.worldbank.org/projects/P129828/ethi...  \n",
       "1      4700000  http://www.worldbank.org/projects/P144674?lang=en  \n",
       "2      6060000  http://www.worldbank.org/projects/P145310?lang=en  \n",
       "\n",
       "[3 rows x 50 columns]"
      ]
     },
     "execution_count": 11,
     "metadata": {},
     "output_type": "execute_result"
    }
   ],
   "source": [
    "#printing head to confirm data loaded correctly\n",
    "wb_json_df.head(3)"
   ]
  },
  {
   "cell_type": "code",
   "execution_count": 12,
   "metadata": {},
   "outputs": [
    {
     "data": {
      "text/plain": [
       "(500, 50)"
      ]
     },
     "execution_count": 12,
     "metadata": {},
     "output_type": "execute_result"
    }
   ],
   "source": [
    "#print shape to determine dimensioning of dataframe\n",
    "wb_json_df.shape"
   ]
  },
  {
   "cell_type": "code",
   "execution_count": 13,
   "metadata": {},
   "outputs": [
    {
     "name": "stdout",
     "output_type": "stream",
     "text": [
      "<class 'pandas.core.frame.DataFrame'>\n",
      "RangeIndex: 500 entries, 0 to 499\n",
      "Data columns (total 50 columns):\n",
      "_id                         500 non-null object\n",
      "approvalfy                  500 non-null int64\n",
      "board_approval_month        500 non-null object\n",
      "boardapprovaldate           500 non-null object\n",
      "borrower                    485 non-null object\n",
      "closingdate                 370 non-null object\n",
      "country_namecode            500 non-null object\n",
      "countrycode                 500 non-null object\n",
      "countryname                 500 non-null object\n",
      "countryshortname            500 non-null object\n",
      "docty                       446 non-null object\n",
      "envassesmentcategorycode    430 non-null object\n",
      "grantamt                    500 non-null int64\n",
      "ibrdcommamt                 500 non-null int64\n",
      "id                          500 non-null object\n",
      "idacommamt                  500 non-null int64\n",
      "impagency                   472 non-null object\n",
      "lendinginstr                495 non-null object\n",
      "lendinginstrtype            495 non-null object\n",
      "lendprojectcost             500 non-null int64\n",
      "majorsector_percent         500 non-null object\n",
      "mjsector_namecode           500 non-null object\n",
      "mjtheme                     491 non-null object\n",
      "mjtheme_namecode            500 non-null object\n",
      "mjthemecode                 500 non-null object\n",
      "prodline                    500 non-null object\n",
      "prodlinetext                500 non-null object\n",
      "productlinetype             500 non-null object\n",
      "project_abstract            362 non-null object\n",
      "project_name                500 non-null object\n",
      "projectdocs                 446 non-null object\n",
      "projectfinancialtype        500 non-null object\n",
      "projectstatusdisplay        500 non-null object\n",
      "regionname                  500 non-null object\n",
      "sector                      500 non-null object\n",
      "sector1                     500 non-null object\n",
      "sector2                     380 non-null object\n",
      "sector3                     265 non-null object\n",
      "sector4                     174 non-null object\n",
      "sector_namecode             500 non-null object\n",
      "sectorcode                  500 non-null object\n",
      "source                      500 non-null object\n",
      "status                      500 non-null object\n",
      "supplementprojectflg        498 non-null object\n",
      "theme1                      500 non-null object\n",
      "theme_namecode              491 non-null object\n",
      "themecode                   491 non-null object\n",
      "totalamt                    500 non-null int64\n",
      "totalcommamt                500 non-null int64\n",
      "url                         500 non-null object\n",
      "dtypes: int64(7), object(43)\n",
      "memory usage: 195.4+ KB\n"
     ]
    }
   ],
   "source": [
    "#printing out df info\n",
    "#confirming what columns have non-null values\n",
    "#For Q1, any feature with 500 non-null values can be used for aggregating (basing off of the shape from above)\n",
    "wb_json_df.info()"
   ]
  },
  {
   "cell_type": "code",
   "execution_count": 14,
   "metadata": {},
   "outputs": [],
   "source": [
    "#Group the dataframe by countryname & code - assuming there \n",
    "top_10_projects = wb_json_df.groupby(['countryname', 'countrycode']).size().sort_values(ascending=False)"
   ]
  },
  {
   "cell_type": "code",
   "execution_count": 15,
   "metadata": {},
   "outputs": [
    {
     "data": {
      "text/plain": [
       "500"
      ]
     },
     "execution_count": 15,
     "metadata": {},
     "output_type": "execute_result"
    }
   ],
   "source": [
    "#confirming all rows have been accounting for in above aggregation\n",
    "top_10_projects.sum()"
   ]
  },
  {
   "cell_type": "code",
   "execution_count": 16,
   "metadata": {},
   "outputs": [],
   "source": [
    "top_10_projects = top_10_projects.head(10)"
   ]
  },
  {
   "cell_type": "code",
   "execution_count": 17,
   "metadata": {},
   "outputs": [
    {
     "data": {
      "text/plain": [
       "1"
      ]
     },
     "execution_count": 17,
     "metadata": {},
     "output_type": "execute_result"
    }
   ],
   "source": [
    "#confirming no mismatching in countryname and countrycode\n",
    "wb_json_df.groupby('countryname')['countrycode'].nunique().max()"
   ]
  },
  {
   "cell_type": "code",
   "execution_count": 18,
   "metadata": {},
   "outputs": [
    {
     "data": {
      "text/plain": [
       "countryname                      countrycode\n",
       "People's Republic of China       CN             19\n",
       "Republic of Indonesia            ID             19\n",
       "Socialist Republic of Vietnam    VN             17\n",
       "Republic of India                IN             16\n",
       "Republic of Yemen                RY             13\n",
       "Nepal                            NP             12\n",
       "People's Republic of Bangladesh  BD             12\n",
       "Kingdom of Morocco               MA             12\n",
       "Africa                           3A             11\n",
       "Republic of Mozambique           MZ             11\n",
       "dtype: int64"
      ]
     },
     "execution_count": 18,
     "metadata": {},
     "output_type": "execute_result"
    }
   ],
   "source": [
    "#printing out top 10\n",
    "top_10_projects.iloc[0:10]"
   ]
  },
  {
   "cell_type": "code",
   "execution_count": 19,
   "metadata": {},
   "outputs": [
    {
     "data": {
      "text/plain": [
       "['CN', 'ID', 'VN', 'IN', 'RY', 'NP', 'BD', 'MA', '3A', 'MZ']"
      ]
     },
     "execution_count": 19,
     "metadata": {},
     "output_type": "execute_result"
    }
   ],
   "source": [
    "#list generation to create country code list for graph \n",
    "countryname = top_10_projects.index.values\n",
    "xlabels = [x[1] for x in countryname]\n",
    "xlabels"
   ]
  },
  {
   "cell_type": "code",
   "execution_count": 20,
   "metadata": {},
   "outputs": [],
   "source": [
    "#extracting y values for graph\n",
    "yvalues = top_10_projects.get_values()"
   ]
  },
  {
   "cell_type": "code",
   "execution_count": 21,
   "metadata": {},
   "outputs": [
    {
     "data": {
      "text/plain": [
       "<BarContainer object of 10 artists>"
      ]
     },
     "execution_count": 21,
     "metadata": {},
     "output_type": "execute_result"
    },
    {
     "data": {
      "image/png": "[encoded data removed]",
      "text/plain": [
       "<Figure size 432x288 with 1 Axes>"
      ]
     },
     "metadata": {
      "needs_background": "light"
     },
     "output_type": "display_data"
    }
   ],
   "source": [
    "#plotting graph of projects\n",
    "plt.bar(xlabels, yvalues)"
   ]
  },
  {
   "cell_type": "code",
   "execution_count": 22,
   "metadata": {},
   "outputs": [],
   "source": [
    "# 2. Find the top 10 major project themes (using column 'mjtheme_namecode')"
   ]
  },
  {
   "cell_type": "code",
   "execution_count": 23,
   "metadata": {},
   "outputs": [
    {
     "data": {
      "text/plain": [
       "0    [{'code': '8', 'name': 'Human development'}, {...\n",
       "1    [{'code': '1', 'name': 'Economic management'},...\n",
       "2    [{'code': '5', 'name': 'Trade and integration'...\n",
       "3    [{'code': '7', 'name': 'Social dev/gender/incl...\n",
       "4    [{'code': '5', 'name': 'Trade and integration'...\n",
       "Name: mjtheme_namecode, dtype: object"
      ]
     },
     "execution_count": 23,
     "metadata": {},
     "output_type": "execute_result"
    }
   ],
   "source": [
    "#printing out head of target column\n",
    "top10_themes = wb_json_df['mjtheme_namecode'].head()\n",
    "top10_themes"
   ]
  },
  {
   "cell_type": "code",
   "execution_count": 24,
   "metadata": {},
   "outputs": [
    {
     "data": {
      "text/plain": [
       "[{'code': '5', 'name': 'Trade and integration'},\n",
       " {'code': '2', 'name': 'Public sector governance'},\n",
       " {'code': '11', 'name': 'Environment and natural resources management'},\n",
       " {'code': '6', 'name': 'Social protection and risk management'}]"
      ]
     },
     "execution_count": 24,
     "metadata": {},
     "output_type": "execute_result"
    }
   ],
   "source": [
    "#printing out sample from column \n",
    "wb_json_df['mjtheme_namecode'][2]"
   ]
  },
  {
   "cell_type": "code",
   "execution_count": 25,
   "metadata": {},
   "outputs": [
    {
     "data": {
      "text/plain": [
       "pandas.core.frame.DataFrame"
      ]
     },
     "execution_count": 25,
     "metadata": {},
     "output_type": "execute_result"
    }
   ],
   "source": [
    "#imputting test value into dataframe to determine layout\n",
    "a = json_normalize(data=wb_json_df['mjtheme_namecode'][0])\n",
    "type(a)"
   ]
  },
  {
   "cell_type": "code",
   "execution_count": 26,
   "metadata": {},
   "outputs": [
    {
     "data": {
      "text/html": [
       "<div>\n",
       "<style scoped>\n",
       "    .dataframe tbody tr th:only-of-type {\n",
       "        vertical-align: middle;\n",
       "    }\n",
       "\n",
       "    .dataframe tbody tr th {\n",
       "        vertical-align: top;\n",
       "    }\n",
       "\n",
       "    .dataframe thead th {\n",
       "        text-align: right;\n",
       "    }\n",
       "</style>\n",
       "<table border=\"1\" class=\"dataframe\">\n",
       "  <thead>\n",
       "    <tr style=\"text-align: right;\">\n",
       "      <th></th>\n",
       "      <th>code</th>\n",
       "      <th>name</th>\n",
       "    </tr>\n",
       "  </thead>\n",
       "  <tbody>\n",
       "    <tr>\n",
       "      <th>0</th>\n",
       "      <td>8</td>\n",
       "      <td>Human development</td>\n",
       "    </tr>\n",
       "    <tr>\n",
       "      <th>1</th>\n",
       "      <td>11</td>\n",
       "      <td></td>\n",
       "    </tr>\n",
       "  </tbody>\n",
       "</table>\n",
       "</div>"
      ],
      "text/plain": [
       "  code               name\n",
       "0    8  Human development\n",
       "1   11                   "
      ]
     },
     "execution_count": 26,
     "metadata": {},
     "output_type": "execute_result"
    }
   ],
   "source": [
    "a.head()"
   ]
  },
  {
   "cell_type": "code",
   "execution_count": 27,
   "metadata": {},
   "outputs": [
    {
     "name": "stdout",
     "output_type": "stream",
     "text": [
      "  code                                   name\n",
      "0    8                      Human development\n",
      "1   11                                       \n",
      "0    1                    Economic management\n",
      "1    6  Social protection and risk management\n",
      "0    5                  Trade and integration\n"
     ]
    }
   ],
   "source": [
    "#creating dataframe to append the JSON data\n",
    "concat_JSON = pd.DataFrame()\n",
    "#Iterating through the JSON objects\n",
    "#Appending the normalized rows to a above dataframe\n",
    "for index, row in wb_json_df['mjtheme_namecode'].iteritems():\n",
    "    concat_JSON = concat_JSON.append(json_normalize(row))\n",
    "    \n",
    "print (concat_JSON.head())\n",
    "#creating group to pull summarize column data\n",
    "JSON_data = concat_JSON.groupby(['name' , 'code']).size().sort_values(ascending=False)"
   ]
  },
  {
   "cell_type": "code",
   "execution_count": 28,
   "metadata": {},
   "outputs": [
    {
     "name": "stdout",
     "output_type": "stream",
     "text": [
      "                                            name code    0\n",
      "0   Environment and natural resources management   11  223\n",
      "1                              Rural development   10  202\n",
      "2                              Human development    8  197\n",
      "3                       Public sector governance    2  184\n",
      "4          Social protection and risk management    6  158\n",
      "5       Financial and private sector development    4  130\n",
      "6                    Social dev/gender/inclusion    7  119\n",
      "7                          Trade and integration    5   72\n",
      "8                              Urban development    9   47\n",
      "9                            Economic management    1   33\n",
      "10                                                 11   27\n",
      "11                                                  4   16\n",
      "12                                                  2   15\n",
      "13                                                 10   14\n",
      "14                                                  8   13\n",
      "15                                   Rule of law    3   12\n",
      "16                                                  7   11\n",
      "17                                                  6   10\n",
      "18                                                  1    5\n",
      "19                                                  5    5\n",
      "20                                                  3    3\n",
      "21                                                  9    3\n"
     ]
    }
   ],
   "source": [
    "#Reseting the indexes to allow the use of column methods on column\n",
    "#Warning: cannot run this cell twice. If index is reset twice then will error out\n",
    "JSON_data = JSON_data.reset_index()\n",
    "print (JSON_data)"
   ]
  },
  {
   "cell_type": "code",
   "execution_count": 29,
   "metadata": {},
   "outputs": [],
   "source": [
    "#3. In 2. above you will notice that some entries have only the code and the name is missing. Create a dataframe with the missing names filled in."
   ]
  },
  {
   "cell_type": "code",
   "execution_count": 46,
   "metadata": {},
   "outputs": [
    {
     "data": {
      "text/html": [
       "<div>\n",
       "<style scoped>\n",
       "    .dataframe tbody tr th:only-of-type {\n",
       "        vertical-align: middle;\n",
       "    }\n",
       "\n",
       "    .dataframe tbody tr th {\n",
       "        vertical-align: top;\n",
       "    }\n",
       "\n",
       "    .dataframe thead th {\n",
       "        text-align: right;\n",
       "    }\n",
       "</style>\n",
       "<table border=\"1\" class=\"dataframe\">\n",
       "  <thead>\n",
       "    <tr style=\"text-align: right;\">\n",
       "      <th></th>\n",
       "      <th>name</th>\n",
       "      <th>code</th>\n",
       "      <th>0</th>\n",
       "    </tr>\n",
       "  </thead>\n",
       "  <tbody>\n",
       "    <tr>\n",
       "      <th>0</th>\n",
       "      <td>Environment and natural resources management</td>\n",
       "      <td>11</td>\n",
       "      <td>223</td>\n",
       "    </tr>\n",
       "    <tr>\n",
       "      <th>1</th>\n",
       "      <td>Rural development</td>\n",
       "      <td>10</td>\n",
       "      <td>202</td>\n",
       "    </tr>\n",
       "    <tr>\n",
       "      <th>2</th>\n",
       "      <td>Human development</td>\n",
       "      <td>8</td>\n",
       "      <td>197</td>\n",
       "    </tr>\n",
       "    <tr>\n",
       "      <th>3</th>\n",
       "      <td>Public sector governance</td>\n",
       "      <td>2</td>\n",
       "      <td>184</td>\n",
       "    </tr>\n",
       "    <tr>\n",
       "      <th>4</th>\n",
       "      <td>Social protection and risk management</td>\n",
       "      <td>6</td>\n",
       "      <td>158</td>\n",
       "    </tr>\n",
       "    <tr>\n",
       "      <th>5</th>\n",
       "      <td>Financial and private sector development</td>\n",
       "      <td>4</td>\n",
       "      <td>130</td>\n",
       "    </tr>\n",
       "    <tr>\n",
       "      <th>6</th>\n",
       "      <td>Social dev/gender/inclusion</td>\n",
       "      <td>7</td>\n",
       "      <td>119</td>\n",
       "    </tr>\n",
       "    <tr>\n",
       "      <th>7</th>\n",
       "      <td>Trade and integration</td>\n",
       "      <td>5</td>\n",
       "      <td>72</td>\n",
       "    </tr>\n",
       "    <tr>\n",
       "      <th>8</th>\n",
       "      <td>Urban development</td>\n",
       "      <td>9</td>\n",
       "      <td>47</td>\n",
       "    </tr>\n",
       "    <tr>\n",
       "      <th>9</th>\n",
       "      <td>Economic management</td>\n",
       "      <td>1</td>\n",
       "      <td>33</td>\n",
       "    </tr>\n",
       "    <tr>\n",
       "      <th>15</th>\n",
       "      <td>Rule of law</td>\n",
       "      <td>3</td>\n",
       "      <td>12</td>\n",
       "    </tr>\n",
       "  </tbody>\n",
       "</table>\n",
       "</div>"
      ],
      "text/plain": [
       "                                            name code    0\n",
       "0   Environment and natural resources management   11  223\n",
       "1                              Rural development   10  202\n",
       "2                              Human development    8  197\n",
       "3                       Public sector governance    2  184\n",
       "4          Social protection and risk management    6  158\n",
       "5       Financial and private sector development    4  130\n",
       "6                    Social dev/gender/inclusion    7  119\n",
       "7                          Trade and integration    5   72\n",
       "8                              Urban development    9   47\n",
       "9                            Economic management    1   33\n",
       "15                                   Rule of law    3   12"
      ]
     },
     "execution_count": 46,
     "metadata": {},
     "output_type": "execute_result"
    }
   ],
   "source": [
    "#boolean mask to strip out the \"\" \n",
    "without_blanks = JSON_data[JSON_data['name'] != \"\"]\n",
    "without_blanks"
   ]
  },
  {
   "cell_type": "code",
   "execution_count": 47,
   "metadata": {},
   "outputs": [],
   "source": [
    "JSON_data_merged = JSON_data.merge(without_blanks,how='outer', on='code')"
   ]
  },
  {
   "cell_type": "code",
   "execution_count": 48,
   "metadata": {},
   "outputs": [
    {
     "data": {
      "text/html": [
       "<div>\n",
       "<style scoped>\n",
       "    .dataframe tbody tr th:only-of-type {\n",
       "        vertical-align: middle;\n",
       "    }\n",
       "\n",
       "    .dataframe tbody tr th {\n",
       "        vertical-align: top;\n",
       "    }\n",
       "\n",
       "    .dataframe thead th {\n",
       "        text-align: right;\n",
       "    }\n",
       "</style>\n",
       "<table border=\"1\" class=\"dataframe\">\n",
       "  <thead>\n",
       "    <tr style=\"text-align: right;\">\n",
       "      <th></th>\n",
       "      <th>name_x</th>\n",
       "      <th>code</th>\n",
       "      <th>0_x</th>\n",
       "      <th>name_y</th>\n",
       "      <th>0_y</th>\n",
       "    </tr>\n",
       "  </thead>\n",
       "  <tbody>\n",
       "    <tr>\n",
       "      <th>0</th>\n",
       "      <td>Environment and natural resources management</td>\n",
       "      <td>11</td>\n",
       "      <td>223</td>\n",
       "      <td>Environment and natural resources management</td>\n",
       "      <td>223</td>\n",
       "    </tr>\n",
       "    <tr>\n",
       "      <th>1</th>\n",
       "      <td></td>\n",
       "      <td>11</td>\n",
       "      <td>27</td>\n",
       "      <td>Environment and natural resources management</td>\n",
       "      <td>223</td>\n",
       "    </tr>\n",
       "    <tr>\n",
       "      <th>2</th>\n",
       "      <td>Rural development</td>\n",
       "      <td>10</td>\n",
       "      <td>202</td>\n",
       "      <td>Rural development</td>\n",
       "      <td>202</td>\n",
       "    </tr>\n",
       "    <tr>\n",
       "      <th>3</th>\n",
       "      <td></td>\n",
       "      <td>10</td>\n",
       "      <td>14</td>\n",
       "      <td>Rural development</td>\n",
       "      <td>202</td>\n",
       "    </tr>\n",
       "    <tr>\n",
       "      <th>4</th>\n",
       "      <td>Human development</td>\n",
       "      <td>8</td>\n",
       "      <td>197</td>\n",
       "      <td>Human development</td>\n",
       "      <td>197</td>\n",
       "    </tr>\n",
       "    <tr>\n",
       "      <th>5</th>\n",
       "      <td></td>\n",
       "      <td>8</td>\n",
       "      <td>13</td>\n",
       "      <td>Human development</td>\n",
       "      <td>197</td>\n",
       "    </tr>\n",
       "    <tr>\n",
       "      <th>6</th>\n",
       "      <td>Public sector governance</td>\n",
       "      <td>2</td>\n",
       "      <td>184</td>\n",
       "      <td>Public sector governance</td>\n",
       "      <td>184</td>\n",
       "    </tr>\n",
       "    <tr>\n",
       "      <th>7</th>\n",
       "      <td></td>\n",
       "      <td>2</td>\n",
       "      <td>15</td>\n",
       "      <td>Public sector governance</td>\n",
       "      <td>184</td>\n",
       "    </tr>\n",
       "    <tr>\n",
       "      <th>8</th>\n",
       "      <td>Social protection and risk management</td>\n",
       "      <td>6</td>\n",
       "      <td>158</td>\n",
       "      <td>Social protection and risk management</td>\n",
       "      <td>158</td>\n",
       "    </tr>\n",
       "    <tr>\n",
       "      <th>9</th>\n",
       "      <td></td>\n",
       "      <td>6</td>\n",
       "      <td>10</td>\n",
       "      <td>Social protection and risk management</td>\n",
       "      <td>158</td>\n",
       "    </tr>\n",
       "    <tr>\n",
       "      <th>10</th>\n",
       "      <td>Financial and private sector development</td>\n",
       "      <td>4</td>\n",
       "      <td>130</td>\n",
       "      <td>Financial and private sector development</td>\n",
       "      <td>130</td>\n",
       "    </tr>\n",
       "    <tr>\n",
       "      <th>11</th>\n",
       "      <td></td>\n",
       "      <td>4</td>\n",
       "      <td>16</td>\n",
       "      <td>Financial and private sector development</td>\n",
       "      <td>130</td>\n",
       "    </tr>\n",
       "    <tr>\n",
       "      <th>12</th>\n",
       "      <td>Social dev/gender/inclusion</td>\n",
       "      <td>7</td>\n",
       "      <td>119</td>\n",
       "      <td>Social dev/gender/inclusion</td>\n",
       "      <td>119</td>\n",
       "    </tr>\n",
       "    <tr>\n",
       "      <th>13</th>\n",
       "      <td></td>\n",
       "      <td>7</td>\n",
       "      <td>11</td>\n",
       "      <td>Social dev/gender/inclusion</td>\n",
       "      <td>119</td>\n",
       "    </tr>\n",
       "    <tr>\n",
       "      <th>14</th>\n",
       "      <td>Trade and integration</td>\n",
       "      <td>5</td>\n",
       "      <td>72</td>\n",
       "      <td>Trade and integration</td>\n",
       "      <td>72</td>\n",
       "    </tr>\n",
       "    <tr>\n",
       "      <th>15</th>\n",
       "      <td></td>\n",
       "      <td>5</td>\n",
       "      <td>5</td>\n",
       "      <td>Trade and integration</td>\n",
       "      <td>72</td>\n",
       "    </tr>\n",
       "    <tr>\n",
       "      <th>16</th>\n",
       "      <td>Urban development</td>\n",
       "      <td>9</td>\n",
       "      <td>47</td>\n",
       "      <td>Urban development</td>\n",
       "      <td>47</td>\n",
       "    </tr>\n",
       "    <tr>\n",
       "      <th>17</th>\n",
       "      <td></td>\n",
       "      <td>9</td>\n",
       "      <td>3</td>\n",
       "      <td>Urban development</td>\n",
       "      <td>47</td>\n",
       "    </tr>\n",
       "    <tr>\n",
       "      <th>18</th>\n",
       "      <td>Economic management</td>\n",
       "      <td>1</td>\n",
       "      <td>33</td>\n",
       "      <td>Economic management</td>\n",
       "      <td>33</td>\n",
       "    </tr>\n",
       "    <tr>\n",
       "      <th>19</th>\n",
       "      <td></td>\n",
       "      <td>1</td>\n",
       "      <td>5</td>\n",
       "      <td>Economic management</td>\n",
       "      <td>33</td>\n",
       "    </tr>\n",
       "    <tr>\n",
       "      <th>20</th>\n",
       "      <td>Rule of law</td>\n",
       "      <td>3</td>\n",
       "      <td>12</td>\n",
       "      <td>Rule of law</td>\n",
       "      <td>12</td>\n",
       "    </tr>\n",
       "    <tr>\n",
       "      <th>21</th>\n",
       "      <td></td>\n",
       "      <td>3</td>\n",
       "      <td>3</td>\n",
       "      <td>Rule of law</td>\n",
       "      <td>12</td>\n",
       "    </tr>\n",
       "  </tbody>\n",
       "</table>\n",
       "</div>"
      ],
      "text/plain": [
       "                                          name_x code  0_x  \\\n",
       "0   Environment and natural resources management   11  223   \n",
       "1                                                  11   27   \n",
       "2                              Rural development   10  202   \n",
       "3                                                  10   14   \n",
       "4                              Human development    8  197   \n",
       "5                                                   8   13   \n",
       "6                       Public sector governance    2  184   \n",
       "7                                                   2   15   \n",
       "8          Social protection and risk management    6  158   \n",
       "9                                                   6   10   \n",
       "10      Financial and private sector development    4  130   \n",
       "11                                                  4   16   \n",
       "12                   Social dev/gender/inclusion    7  119   \n",
       "13                                                  7   11   \n",
       "14                         Trade and integration    5   72   \n",
       "15                                                  5    5   \n",
       "16                             Urban development    9   47   \n",
       "17                                                  9    3   \n",
       "18                           Economic management    1   33   \n",
       "19                                                  1    5   \n",
       "20                                   Rule of law    3   12   \n",
       "21                                                  3    3   \n",
       "\n",
       "                                          name_y  0_y  \n",
       "0   Environment and natural resources management  223  \n",
       "1   Environment and natural resources management  223  \n",
       "2                              Rural development  202  \n",
       "3                              Rural development  202  \n",
       "4                              Human development  197  \n",
       "5                              Human development  197  \n",
       "6                       Public sector governance  184  \n",
       "7                       Public sector governance  184  \n",
       "8          Social protection and risk management  158  \n",
       "9          Social protection and risk management  158  \n",
       "10      Financial and private sector development  130  \n",
       "11      Financial and private sector development  130  \n",
       "12                   Social dev/gender/inclusion  119  \n",
       "13                   Social dev/gender/inclusion  119  \n",
       "14                         Trade and integration   72  \n",
       "15                         Trade and integration   72  \n",
       "16                             Urban development   47  \n",
       "17                             Urban development   47  \n",
       "18                           Economic management   33  \n",
       "19                           Economic management   33  \n",
       "20                                   Rule of law   12  \n",
       "21                                   Rule of law   12  "
      ]
     },
     "execution_count": 48,
     "metadata": {},
     "output_type": "execute_result"
    }
   ],
   "source": [
    "JSON_data_merged"
   ]
  },
  {
   "cell_type": "code",
   "execution_count": 49,
   "metadata": {},
   "outputs": [
    {
     "data": {
      "text/plain": [
       "name_y                                        code\n",
       "Environment and natural resources management  11      250\n",
       "Rural development                             10      216\n",
       "Human development                             8       210\n",
       "Public sector governance                      2       199\n",
       "Social protection and risk management         6       168\n",
       "Financial and private sector development      4       146\n",
       "Social dev/gender/inclusion                   7       130\n",
       "Trade and integration                         5        77\n",
       "Urban development                             9        50\n",
       "Economic management                           1        38\n",
       "Rule of law                                   3        15\n",
       "Name: 0_x, dtype: int64"
      ]
     },
     "execution_count": 49,
     "metadata": {},
     "output_type": "execute_result"
    }
   ],
   "source": [
    "#creating group object to summarize the size of new merged df\n",
    "JSON_data_merged_group = JSON_data_merged.groupby(['name_y','code'])['0_x'].sum().sort_values(ascending=False)\n",
    "JSON_data_merged_group"
   ]
  },
  {
   "cell_type": "code",
   "execution_count": 50,
   "metadata": {},
   "outputs": [
    {
     "data": {
      "text/plain": [
       "1499"
      ]
     },
     "execution_count": 50,
     "metadata": {},
     "output_type": "execute_result"
    }
   ],
   "source": [
    "#confirming all instances have been captured by new dataframe\n",
    "JSON_data_merged_group.sum()"
   ]
  },
  {
   "cell_type": "code",
   "execution_count": 62,
   "metadata": {},
   "outputs": [
    {
     "data": {
      "text/plain": [
       "MultiIndex(levels=[['Economic management', 'Environment and natural resources management', 'Financial and private sector development', 'Human development', 'Public sector governance', 'Rule of law', 'Rural development', 'Social dev/gender/inclusion', 'Social protection and risk management', 'Trade and integration', 'Urban development'], ['1', '10', '11', '2', '3', '4', '5', '6', '7', '8', '9']],\n",
       "           codes=[[1, 6, 3, 4, 8, 2, 7, 9, 10, 0, 5], [2, 1, 9, 3, 7, 5, 8, 6, 10, 0, 4]],\n",
       "           names=['name_y', 'code'])"
      ]
     },
     "execution_count": 62,
     "metadata": {},
     "output_type": "execute_result"
    }
   ],
   "source": [
    "#creating list of indexes to iterate through for graph creation\n",
    "f = JSON_data_merged_group.index\n",
    "f"
   ]
  },
  {
   "cell_type": "code",
   "execution_count": 90,
   "metadata": {},
   "outputs": [
    {
     "data": {
      "text/plain": [
       "['11', '10', '8', '2', '6', '4', '7', '5', '9', '1', '3']"
      ]
     },
     "execution_count": 90,
     "metadata": {},
     "output_type": "execute_result"
    }
   ],
   "source": [
    "#creating legend for graph\n",
    "legend2 = [str((x[1])) for x in f]\n",
    "legend2"
   ]
  },
  {
   "cell_type": "code",
   "execution_count": 91,
   "metadata": {},
   "outputs": [
    {
     "data": {
      "text/plain": [
       "name_y                                        code\n",
       "Environment and natural resources management  11      250\n",
       "Rural development                             10      216\n",
       "Human development                             8       210\n",
       "Public sector governance                      2       199\n",
       "Social protection and risk management         6       168\n",
       "Name: 0_x, dtype: int64"
      ]
     },
     "execution_count": 91,
     "metadata": {},
     "output_type": "execute_result"
    }
   ],
   "source": [
    "JSON_data_merged_group.head()"
   ]
  },
  {
   "cell_type": "code",
   "execution_count": 143,
   "metadata": {},
   "outputs": [
    {
     "data": {
      "text/html": [
       "<div>\n",
       "<style scoped>\n",
       "    .dataframe tbody tr th:only-of-type {\n",
       "        vertical-align: middle;\n",
       "    }\n",
       "\n",
       "    .dataframe tbody tr th {\n",
       "        vertical-align: top;\n",
       "    }\n",
       "\n",
       "    .dataframe thead th {\n",
       "        text-align: right;\n",
       "    }\n",
       "</style>\n",
       "<table border=\"1\" class=\"dataframe\">\n",
       "  <thead>\n",
       "    <tr style=\"text-align: right;\">\n",
       "      <th></th>\n",
       "      <th>name_y</th>\n",
       "      <th>code</th>\n",
       "      <th>0_x</th>\n",
       "    </tr>\n",
       "  </thead>\n",
       "  <tbody>\n",
       "    <tr>\n",
       "      <th>0</th>\n",
       "      <td>Environment and natural resources management</td>\n",
       "      <td>11</td>\n",
       "      <td>250</td>\n",
       "    </tr>\n",
       "    <tr>\n",
       "      <th>1</th>\n",
       "      <td>Rural development</td>\n",
       "      <td>10</td>\n",
       "      <td>216</td>\n",
       "    </tr>\n",
       "    <tr>\n",
       "      <th>2</th>\n",
       "      <td>Human development</td>\n",
       "      <td>8</td>\n",
       "      <td>210</td>\n",
       "    </tr>\n",
       "    <tr>\n",
       "      <th>3</th>\n",
       "      <td>Public sector governance</td>\n",
       "      <td>2</td>\n",
       "      <td>199</td>\n",
       "    </tr>\n",
       "    <tr>\n",
       "      <th>4</th>\n",
       "      <td>Social protection and risk management</td>\n",
       "      <td>6</td>\n",
       "      <td>168</td>\n",
       "    </tr>\n",
       "    <tr>\n",
       "      <th>5</th>\n",
       "      <td>Financial and private sector development</td>\n",
       "      <td>4</td>\n",
       "      <td>146</td>\n",
       "    </tr>\n",
       "    <tr>\n",
       "      <th>6</th>\n",
       "      <td>Social dev/gender/inclusion</td>\n",
       "      <td>7</td>\n",
       "      <td>130</td>\n",
       "    </tr>\n",
       "    <tr>\n",
       "      <th>7</th>\n",
       "      <td>Trade and integration</td>\n",
       "      <td>5</td>\n",
       "      <td>77</td>\n",
       "    </tr>\n",
       "    <tr>\n",
       "      <th>8</th>\n",
       "      <td>Urban development</td>\n",
       "      <td>9</td>\n",
       "      <td>50</td>\n",
       "    </tr>\n",
       "    <tr>\n",
       "      <th>9</th>\n",
       "      <td>Economic management</td>\n",
       "      <td>1</td>\n",
       "      <td>38</td>\n",
       "    </tr>\n",
       "    <tr>\n",
       "      <th>10</th>\n",
       "      <td>Rule of law</td>\n",
       "      <td>3</td>\n",
       "      <td>15</td>\n",
       "    </tr>\n",
       "  </tbody>\n",
       "</table>\n",
       "</div>"
      ],
      "text/plain": [
       "                                          name_y code  0_x\n",
       "0   Environment and natural resources management   11  250\n",
       "1                              Rural development   10  216\n",
       "2                              Human development    8  210\n",
       "3                       Public sector governance    2  199\n",
       "4          Social protection and risk management    6  168\n",
       "5       Financial and private sector development    4  146\n",
       "6                    Social dev/gender/inclusion    7  130\n",
       "7                          Trade and integration    5   77\n",
       "8                              Urban development    9   50\n",
       "9                            Economic management    1   38\n",
       "10                                   Rule of law    3   15"
      ]
     },
     "execution_count": 143,
     "metadata": {},
     "output_type": "execute_result"
    }
   ],
   "source": [
    "#reseting index to turn grouped df into normal df\n",
    "JSON_Data_chart = JSON_data_merged_group.reset_index()\n",
    "JSON_Data_chart"
   ]
  },
  {
   "cell_type": "code",
   "execution_count": 144,
   "metadata": {},
   "outputs": [
    {
     "ename": "TypeError",
     "evalue": "'str' object is not callable",
     "output_type": "error",
     "traceback": [
      "\u001b[1;31m---------------------------------------------------------------------------\u001b[0m",
      "\u001b[1;31mTypeError\u001b[0m                                 Traceback (most recent call last)",
      "\u001b[1;32m<ipython-input-144-7f9336189da6>\u001b[0m in \u001b[0;36m<module>\u001b[1;34m\u001b[0m\n\u001b[0;32m      1\u001b[0m \u001b[0mplt\u001b[0m\u001b[1;33m.\u001b[0m\u001b[0mbar\u001b[0m\u001b[1;33m(\u001b[0m\u001b[0mlegend2\u001b[0m\u001b[1;33m,\u001b[0m \u001b[0mJSON_Data_chart\u001b[0m\u001b[1;33m[\u001b[0m\u001b[1;34m'0_x'\u001b[0m\u001b[1;33m]\u001b[0m\u001b[1;33m)\u001b[0m\u001b[1;33m\u001b[0m\u001b[1;33m\u001b[0m\u001b[0m\n\u001b[1;32m----> 2\u001b[1;33m \u001b[0mplt\u001b[0m\u001b[1;33m.\u001b[0m\u001b[0mxlabel\u001b[0m\u001b[1;33m(\u001b[0m\u001b[1;34m'Codes'\u001b[0m\u001b[1;33m)\u001b[0m\u001b[1;33m\u001b[0m\u001b[1;33m\u001b[0m\u001b[0m\n\u001b[0m\u001b[0;32m      3\u001b[0m \u001b[0mplt\u001b[0m\u001b[1;33m.\u001b[0m\u001b[0mylabel\u001b[0m\u001b[1;33m(\u001b[0m\u001b[1;34m'# of projects'\u001b[0m\u001b[1;33m)\u001b[0m\u001b[1;33m\u001b[0m\u001b[1;33m\u001b[0m\u001b[0m\n\u001b[0;32m      4\u001b[0m \u001b[0mplt\u001b[0m\u001b[1;33m.\u001b[0m\u001b[0mshow\u001b[0m\u001b[1;33m(\u001b[0m\u001b[1;33m)\u001b[0m\u001b[1;33m\u001b[0m\u001b[1;33m\u001b[0m\u001b[0m\n",
      "\u001b[1;31mTypeError\u001b[0m: 'str' object is not callable"
     ]
    },
    {
     "data": {
      "image/png": "[encoded data removed]",
      "text/plain": [
       "<Figure size 432x288 with 1 Axes>"
      ]
     },
     "metadata": {
      "needs_background": "light"
     },
     "output_type": "display_data"
    }
   ],
   "source": [
    "plt.bar(legend2, JSON_Data_chart['0_x'])\n",
    "plt.xlabel('Codes')\n",
    "plt.ylabel('# of projects')\n",
    "plt.show()"
   ]
  },
  {
   "cell_type": "code",
   "execution_count": 99,
   "metadata": {},
   "outputs": [],
   "source": [
    "#3 Redo in alternative method"
   ]
  },
  {
   "cell_type": "code",
   "execution_count": 100,
   "metadata": {},
   "outputs": [
    {
     "data": {
      "text/html": [
       "<div>\n",
       "<style scoped>\n",
       "    .dataframe tbody tr th:only-of-type {\n",
       "        vertical-align: middle;\n",
       "    }\n",
       "\n",
       "    .dataframe tbody tr th {\n",
       "        vertical-align: top;\n",
       "    }\n",
       "\n",
       "    .dataframe thead th {\n",
       "        text-align: right;\n",
       "    }\n",
       "</style>\n",
       "<table border=\"1\" class=\"dataframe\">\n",
       "  <thead>\n",
       "    <tr style=\"text-align: right;\">\n",
       "      <th></th>\n",
       "      <th>name</th>\n",
       "      <th>code</th>\n",
       "      <th>0</th>\n",
       "    </tr>\n",
       "  </thead>\n",
       "  <tbody>\n",
       "    <tr>\n",
       "      <th>0</th>\n",
       "      <td>Environment and natural resources management</td>\n",
       "      <td>11</td>\n",
       "      <td>223</td>\n",
       "    </tr>\n",
       "    <tr>\n",
       "      <th>1</th>\n",
       "      <td>Rural development</td>\n",
       "      <td>10</td>\n",
       "      <td>202</td>\n",
       "    </tr>\n",
       "    <tr>\n",
       "      <th>2</th>\n",
       "      <td>Human development</td>\n",
       "      <td>8</td>\n",
       "      <td>197</td>\n",
       "    </tr>\n",
       "    <tr>\n",
       "      <th>3</th>\n",
       "      <td>Public sector governance</td>\n",
       "      <td>2</td>\n",
       "      <td>184</td>\n",
       "    </tr>\n",
       "    <tr>\n",
       "      <th>4</th>\n",
       "      <td>Social protection and risk management</td>\n",
       "      <td>6</td>\n",
       "      <td>158</td>\n",
       "    </tr>\n",
       "  </tbody>\n",
       "</table>\n",
       "</div>"
      ],
      "text/plain": [
       "                                           name code    0\n",
       "0  Environment and natural resources management   11  223\n",
       "1                             Rural development   10  202\n",
       "2                             Human development    8  197\n",
       "3                      Public sector governance    2  184\n",
       "4         Social protection and risk management    6  158"
      ]
     },
     "execution_count": 100,
     "metadata": {},
     "output_type": "execute_result"
    }
   ],
   "source": [
    "JSON_data.head()"
   ]
  },
  {
   "cell_type": "code",
   "execution_count": 132,
   "metadata": {},
   "outputs": [
    {
     "data": {
      "text/html": [
       "<div>\n",
       "<style scoped>\n",
       "    .dataframe tbody tr th:only-of-type {\n",
       "        vertical-align: middle;\n",
       "    }\n",
       "\n",
       "    .dataframe tbody tr th {\n",
       "        vertical-align: top;\n",
       "    }\n",
       "\n",
       "    .dataframe thead th {\n",
       "        text-align: right;\n",
       "    }\n",
       "</style>\n",
       "<table border=\"1\" class=\"dataframe\">\n",
       "  <thead>\n",
       "    <tr style=\"text-align: right;\">\n",
       "      <th></th>\n",
       "      <th>name</th>\n",
       "      <th>code</th>\n",
       "      <th>0</th>\n",
       "    </tr>\n",
       "  </thead>\n",
       "  <tbody>\n",
       "    <tr>\n",
       "      <th>0</th>\n",
       "      <td>Environment and natural resources management</td>\n",
       "      <td>11</td>\n",
       "      <td>223</td>\n",
       "    </tr>\n",
       "    <tr>\n",
       "      <th>1</th>\n",
       "      <td>Rural development</td>\n",
       "      <td>10</td>\n",
       "      <td>202</td>\n",
       "    </tr>\n",
       "    <tr>\n",
       "      <th>2</th>\n",
       "      <td>Human development</td>\n",
       "      <td>8</td>\n",
       "      <td>197</td>\n",
       "    </tr>\n",
       "    <tr>\n",
       "      <th>3</th>\n",
       "      <td>Public sector governance</td>\n",
       "      <td>2</td>\n",
       "      <td>184</td>\n",
       "    </tr>\n",
       "    <tr>\n",
       "      <th>4</th>\n",
       "      <td>Social protection and risk management</td>\n",
       "      <td>6</td>\n",
       "      <td>158</td>\n",
       "    </tr>\n",
       "  </tbody>\n",
       "</table>\n",
       "</div>"
      ],
      "text/plain": [
       "                                           name code    0\n",
       "0  Environment and natural resources management   11  223\n",
       "1                             Rural development   10  202\n",
       "2                             Human development    8  197\n",
       "3                      Public sector governance    2  184\n",
       "4         Social protection and risk management    6  158"
      ]
     },
     "execution_count": 132,
     "metadata": {},
     "output_type": "execute_result"
    }
   ],
   "source": [
    "#Creating new df to manipulate\n",
    "#Reseting index to call pandas functions on columns\n",
    "JSON_Data_ffill = JSON_data\n",
    "JSON_Data_ffill = JSON_Data_ffill.reset_index()\n",
    "JSON_Data_ffill = JSON_Data_ffill.drop(['index'],axis=1)\n",
    "JSON_Data_ffill.head()"
   ]
  },
  {
   "cell_type": "code",
   "execution_count": 102,
   "metadata": {},
   "outputs": [],
   "source": [
    "#import numpy in order to leverage ffill\n",
    "#sort values by code and name\n",
    "import numpy as np\n",
    "JSON_Data_ffill = JSON_Data_ffill.sort_values(['code','name'], ascending=False)\n",
    "JSON_Data_ffill['name'] = JSON_Data_ffill['name'].replace('',np.nan)"
   ]
  },
  {
   "cell_type": "code",
   "execution_count": 133,
   "metadata": {},
   "outputs": [],
   "source": [
    "#forwardfill values down\n",
    "JSON_Data_ffill= JSON_Data_ffill.ffill(axis=0)"
   ]
  },
  {
   "cell_type": "code",
   "execution_count": 134,
   "metadata": {},
   "outputs": [
    {
     "data": {
      "text/html": [
       "<div>\n",
       "<style scoped>\n",
       "    .dataframe tbody tr th:only-of-type {\n",
       "        vertical-align: middle;\n",
       "    }\n",
       "\n",
       "    .dataframe tbody tr th {\n",
       "        vertical-align: top;\n",
       "    }\n",
       "\n",
       "    .dataframe thead th {\n",
       "        text-align: right;\n",
       "    }\n",
       "</style>\n",
       "<table border=\"1\" class=\"dataframe\">\n",
       "  <thead>\n",
       "    <tr style=\"text-align: right;\">\n",
       "      <th></th>\n",
       "      <th>name</th>\n",
       "      <th>code</th>\n",
       "      <th>0</th>\n",
       "    </tr>\n",
       "  </thead>\n",
       "  <tbody>\n",
       "    <tr>\n",
       "      <th>0</th>\n",
       "      <td>Environment and natural resources management</td>\n",
       "      <td>11</td>\n",
       "      <td>223</td>\n",
       "    </tr>\n",
       "    <tr>\n",
       "      <th>1</th>\n",
       "      <td>Rural development</td>\n",
       "      <td>10</td>\n",
       "      <td>202</td>\n",
       "    </tr>\n",
       "    <tr>\n",
       "      <th>2</th>\n",
       "      <td>Human development</td>\n",
       "      <td>8</td>\n",
       "      <td>197</td>\n",
       "    </tr>\n",
       "    <tr>\n",
       "      <th>3</th>\n",
       "      <td>Public sector governance</td>\n",
       "      <td>2</td>\n",
       "      <td>184</td>\n",
       "    </tr>\n",
       "    <tr>\n",
       "      <th>4</th>\n",
       "      <td>Social protection and risk management</td>\n",
       "      <td>6</td>\n",
       "      <td>158</td>\n",
       "    </tr>\n",
       "    <tr>\n",
       "      <th>5</th>\n",
       "      <td>Financial and private sector development</td>\n",
       "      <td>4</td>\n",
       "      <td>130</td>\n",
       "    </tr>\n",
       "    <tr>\n",
       "      <th>6</th>\n",
       "      <td>Social dev/gender/inclusion</td>\n",
       "      <td>7</td>\n",
       "      <td>119</td>\n",
       "    </tr>\n",
       "    <tr>\n",
       "      <th>7</th>\n",
       "      <td>Trade and integration</td>\n",
       "      <td>5</td>\n",
       "      <td>72</td>\n",
       "    </tr>\n",
       "    <tr>\n",
       "      <th>8</th>\n",
       "      <td>Urban development</td>\n",
       "      <td>9</td>\n",
       "      <td>47</td>\n",
       "    </tr>\n",
       "    <tr>\n",
       "      <th>9</th>\n",
       "      <td>Economic management</td>\n",
       "      <td>1</td>\n",
       "      <td>33</td>\n",
       "    </tr>\n",
       "    <tr>\n",
       "      <th>10</th>\n",
       "      <td></td>\n",
       "      <td>11</td>\n",
       "      <td>27</td>\n",
       "    </tr>\n",
       "    <tr>\n",
       "      <th>11</th>\n",
       "      <td></td>\n",
       "      <td>4</td>\n",
       "      <td>16</td>\n",
       "    </tr>\n",
       "    <tr>\n",
       "      <th>12</th>\n",
       "      <td></td>\n",
       "      <td>2</td>\n",
       "      <td>15</td>\n",
       "    </tr>\n",
       "    <tr>\n",
       "      <th>13</th>\n",
       "      <td></td>\n",
       "      <td>10</td>\n",
       "      <td>14</td>\n",
       "    </tr>\n",
       "    <tr>\n",
       "      <th>14</th>\n",
       "      <td></td>\n",
       "      <td>8</td>\n",
       "      <td>13</td>\n",
       "    </tr>\n",
       "    <tr>\n",
       "      <th>15</th>\n",
       "      <td>Rule of law</td>\n",
       "      <td>3</td>\n",
       "      <td>12</td>\n",
       "    </tr>\n",
       "    <tr>\n",
       "      <th>16</th>\n",
       "      <td></td>\n",
       "      <td>7</td>\n",
       "      <td>11</td>\n",
       "    </tr>\n",
       "    <tr>\n",
       "      <th>17</th>\n",
       "      <td></td>\n",
       "      <td>6</td>\n",
       "      <td>10</td>\n",
       "    </tr>\n",
       "    <tr>\n",
       "      <th>18</th>\n",
       "      <td></td>\n",
       "      <td>1</td>\n",
       "      <td>5</td>\n",
       "    </tr>\n",
       "    <tr>\n",
       "      <th>19</th>\n",
       "      <td></td>\n",
       "      <td>5</td>\n",
       "      <td>5</td>\n",
       "    </tr>\n",
       "    <tr>\n",
       "      <th>20</th>\n",
       "      <td></td>\n",
       "      <td>3</td>\n",
       "      <td>3</td>\n",
       "    </tr>\n",
       "    <tr>\n",
       "      <th>21</th>\n",
       "      <td></td>\n",
       "      <td>9</td>\n",
       "      <td>3</td>\n",
       "    </tr>\n",
       "  </tbody>\n",
       "</table>\n",
       "</div>"
      ],
      "text/plain": [
       "                                            name code    0\n",
       "0   Environment and natural resources management   11  223\n",
       "1                              Rural development   10  202\n",
       "2                              Human development    8  197\n",
       "3                       Public sector governance    2  184\n",
       "4          Social protection and risk management    6  158\n",
       "5       Financial and private sector development    4  130\n",
       "6                    Social dev/gender/inclusion    7  119\n",
       "7                          Trade and integration    5   72\n",
       "8                              Urban development    9   47\n",
       "9                            Economic management    1   33\n",
       "10                                                 11   27\n",
       "11                                                  4   16\n",
       "12                                                  2   15\n",
       "13                                                 10   14\n",
       "14                                                  8   13\n",
       "15                                   Rule of law    3   12\n",
       "16                                                  7   11\n",
       "17                                                  6   10\n",
       "18                                                  1    5\n",
       "19                                                  5    5\n",
       "20                                                  3    3\n",
       "21                                                  9    3"
      ]
     },
     "execution_count": 134,
     "metadata": {},
     "output_type": "execute_result"
    }
   ],
   "source": [
    "JSON_Data_ffill"
   ]
  },
  {
   "cell_type": "code",
   "execution_count": 135,
   "metadata": {},
   "outputs": [],
   "source": [
    "#group the data into new groups - amagimating the fowrward filled column\n",
    "#reset index to turn grouped data in df for pandas methods\n",
    "grouped_ffill_data = JSON_Data_ffill.groupby(['name','code']).sum()\n",
    "grouped_ffill_data = grouped_ffill_data.reset_index()"
   ]
  },
  {
   "cell_type": "code",
   "execution_count": 136,
   "metadata": {},
   "outputs": [
    {
     "data": {
      "text/html": [
       "<div>\n",
       "<style scoped>\n",
       "    .dataframe tbody tr th:only-of-type {\n",
       "        vertical-align: middle;\n",
       "    }\n",
       "\n",
       "    .dataframe tbody tr th {\n",
       "        vertical-align: top;\n",
       "    }\n",
       "\n",
       "    .dataframe thead th {\n",
       "        text-align: right;\n",
       "    }\n",
       "</style>\n",
       "<table border=\"1\" class=\"dataframe\">\n",
       "  <thead>\n",
       "    <tr style=\"text-align: right;\">\n",
       "      <th></th>\n",
       "      <th>name</th>\n",
       "      <th>code</th>\n",
       "      <th>0</th>\n",
       "    </tr>\n",
       "  </thead>\n",
       "  <tbody>\n",
       "    <tr>\n",
       "      <th>0</th>\n",
       "      <td></td>\n",
       "      <td>1</td>\n",
       "      <td>5</td>\n",
       "    </tr>\n",
       "    <tr>\n",
       "      <th>1</th>\n",
       "      <td></td>\n",
       "      <td>10</td>\n",
       "      <td>14</td>\n",
       "    </tr>\n",
       "    <tr>\n",
       "      <th>2</th>\n",
       "      <td></td>\n",
       "      <td>11</td>\n",
       "      <td>27</td>\n",
       "    </tr>\n",
       "  </tbody>\n",
       "</table>\n",
       "</div>"
      ],
      "text/plain": [
       "  name code   0\n",
       "0         1   5\n",
       "1        10  14\n",
       "2        11  27"
      ]
     },
     "execution_count": 136,
     "metadata": {},
     "output_type": "execute_result"
    }
   ],
   "source": [
    "#inspect the data\n",
    "grouped_ffill_data.head(3)"
   ]
  },
  {
   "cell_type": "code",
   "execution_count": 137,
   "metadata": {},
   "outputs": [
    {
     "data": {
      "text/plain": [
       "0       5\n",
       "1      14\n",
       "2      27\n",
       "3      15\n",
       "4       3\n",
       "5      16\n",
       "6       5\n",
       "7      10\n",
       "8      11\n",
       "9      13\n",
       "10      3\n",
       "11     33\n",
       "12    223\n",
       "13    130\n",
       "14    197\n",
       "15    184\n",
       "16     12\n",
       "17    202\n",
       "18    119\n",
       "19    158\n",
       "20     72\n",
       "21     47\n",
       "Name: 0, dtype: int64"
      ]
     },
     "execution_count": 137,
     "metadata": {},
     "output_type": "execute_result"
    }
   ],
   "source": [
    "#inspect the data\n",
    "grouped_ffill_data[0]"
   ]
  },
  {
   "cell_type": "code",
   "execution_count": 139,
   "metadata": {},
   "outputs": [
    {
     "data": {
      "image/png": "[encoded data removed]",
      "text/plain": [
       "<Figure size 432x288 with 1 Axes>"
      ]
     },
     "metadata": {
      "needs_background": "light"
     },
     "output_type": "display_data"
    }
   ],
   "source": [
    "#plotting the new dataframe\n",
    "plt.bar(grouped_ffill_data.code, grouped_ffill_data[0])\n",
    "plt.xlabel=('Codes')\n",
    "plt.show()"
   ]
  },
  {
   "cell_type": "code",
   "execution_count": null,
   "metadata": {},
   "outputs": [],
   "source": []
  },
  {
   "cell_type": "code",
   "execution_count": null,
   "metadata": {},
   "outputs": [],
   "source": []
  },
  {
   "cell_type": "code",
   "execution_count": null,
   "metadata": {},
   "outputs": [],
   "source": []
  },
  {
   "cell_type": "code",
   "execution_count": null,
   "metadata": {},
   "outputs": [],
   "source": []
  }
 ],
 "metadata": {
  "kernelspec": {
   "display_name": "Python 3",
   "language": "python",
   "name": "python3"
  },
  "language_info": {
   "codemirror_mode": {
    "name": "ipython",
    "version": 3
   },
   "file_extension": ".py",
   "mimetype": "text/x-python",
   "name": "python",
   "nbconvert_exporter": "python",
   "pygments_lexer": "ipython3",
   "version": "3.7.3"
  }
 },
 "nbformat": 4,
 "nbformat_minor": 1
}
