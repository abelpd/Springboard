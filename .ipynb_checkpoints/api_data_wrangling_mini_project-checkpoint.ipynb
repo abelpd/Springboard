{
 "cells": [
  {
   "cell_type": "markdown",
   "metadata": {},
   "source": [
    "This exercise will require you to pull some data from the Qunadl API. Qaundl is currently the most widely used aggregator of financial market data."
   ]
  },
  {
   "cell_type": "markdown",
   "metadata": {},
   "source": [
    "As a first step, you will need to register a free account on the http://www.quandl.com website."
   ]
  },
  {
   "cell_type": "markdown",
   "metadata": {},
   "source": [
    "After you register, you will be provided with a unique API key, that you should store:"
   ]
  },
  {
   "cell_type": "code",
   "execution_count": 1,
   "metadata": {},
   "outputs": [],
   "source": [
    "# Store the API key as a string - according to PEP8, constants are always named in all upper case\n",
    "API_KEY = '####################'"
   ]
  },
  {
   "cell_type": "markdown",
   "metadata": {},
   "source": [
    "Qaundl has a large number of data sources, but, unfortunately, most of them require a Premium subscription. Still, there are also a good number of free datasets."
   ]
  },
  {
   "cell_type": "markdown",
   "metadata": {},
   "source": [
    "For this mini project, we will focus on equities data from the Frankfurt Stock Exhange (FSE), which is available for free. We'll try and analyze the stock prices of a company called Carl Zeiss Meditec, which manufactures tools for eye examinations, as well as medical lasers for laser eye surgery: https://www.zeiss.com/meditec/int/home.html. The company is listed under the stock ticker AFX_X."
   ]
  },
  {
   "cell_type": "markdown",
   "metadata": {},
   "source": [
    "You can find the detailed Quandl API instructions here: https://docs.quandl.com/docs/time-series"
   ]
  },
  {
   "cell_type": "markdown",
   "metadata": {},
   "source": [
    "While there is a dedicated Python package for connecting to the Quandl API, we would prefer that you use the *requests* package, which can be easily downloaded using *pip* or *conda*. You can find the documentation for the package here: http://docs.python-requests.org/en/master/ "
   ]
  },
  {
   "cell_type": "markdown",
   "metadata": {},
   "source": [
    "Finally, apart from the *requests* package, you are encouraged to not use any third party Python packages, such as *pandas*, and instead focus on what's available in the Python Standard Library (the *collections* module might come in handy: https://pymotw.com/3/collections/ ).\n",
    "Also, since you won't have access to DataFrames, you are encouraged to us Python's native data structures - preferably dictionaries, though some questions can also be answered using lists.\n",
    "You can read more on these data structures here: https://docs.python.org/3/tutorial/datastructures.html"
   ]
  },
  {
   "cell_type": "markdown",
   "metadata": {},
   "source": [
    "Keep in mind that the JSON responses you will be getting from the API map almost one-to-one to Python's dictionaries. Unfortunately, they can be very nested, so make sure you read up on indexing dictionaries in the documentation provided above."
   ]
  },
  {
   "cell_type": "code",
   "execution_count": 2,
   "metadata": {},
   "outputs": [],
   "source": [
    "# First, import the relevant modules\n",
    "import requests\n",
    "from collections import defaultdict\n",
    "\n",
    "#https://stackoverflow.com/questions/3229419/how-to-pretty-print-nested-dictionaries\n",
    "#function to aesthetically print out json data\n",
    "def pretty(d, indent=0):\n",
    "   for key, value in d.items():\n",
    "      print('\\t' * indent + str(key))\n",
    "      if isinstance(value, dict):\n",
    "         pretty(value, indent+1)\n",
    "      else:\n",
    "         print('\\t' * (indent+1) + str(value))\n"
   ]
  },
  {
   "cell_type": "code",
   "execution_count": 3,
   "metadata": {},
   "outputs": [
    {
     "name": "stdout",
     "output_type": "stream",
     "text": [
      "dataset_data\n",
      "\tlimit\n",
      "\t\tNone\n",
      "\ttransform\n",
      "\t\tNone\n",
      "\tcolumn_index\n",
      "\t\tNone\n",
      "\tcolumn_names\n",
      "\t\t['Date', 'Open', 'High', 'Low', 'Close', 'Change', 'Traded Volume', 'Turnover', 'Last Price of the Day', 'Daily Traded Units', 'Daily Turnover']\n",
      "\tstart_date\n",
      "\t\t2014-01-01\n",
      "\tend_date\n",
      "\t\t2014-01-02\n",
      "\tfrequency\n",
      "\t\tdaily\n",
      "\tdata\n",
      "\t\t[['2014-01-02', 24.24, 24.76, 23.77, 24.18, None, 55735.0, 1355658.0, None, None, None]]\n",
      "\tcollapse\n",
      "\t\tNone\n",
      "\torder\n",
      "\t\tNone\n",
      "None\n"
     ]
    }
   ],
   "source": [
    "# Now, call the Quandl API and pull out a small sample of the data (only one day) to get a glimpse\n",
    "# into the JSON structure that will be returned\\\n",
    "\n",
    "#testing api call\n",
    "json_test = requests.get(\"https://www.quandl.com/api/v3/datasets/FSE/AFX_X/data.json?&start_date=2014-01-01&end_date=2014-01-02&api_key=\" + API_KEY)\n",
    "\n",
    "#converting to python dict\n",
    "json_test = json_test.json()\n",
    "\n",
    "#printing out dict object\n",
    "print (pretty(json_test))\n"
   ]
  },
  {
   "cell_type": "code",
   "execution_count": 4,
   "metadata": {},
   "outputs": [
    {
     "name": "stdout",
     "output_type": "stream",
     "text": [
      "['Date', 'Open', 'High', 'Low', 'Close', 'Change', 'Traded Volume', 'Turnover', 'Last Price of the Day', 'Daily Traded Units', 'Daily Turnover']\n",
      "[['2014-01-02', 24.24, 24.76, 23.77, 24.18, None, 55735.0, 1355658.0, None, None, None]]\n"
     ]
    }
   ],
   "source": [
    "# Inspect the JSON structure of the object you created, and take note of how nested it is,\n",
    "# as well as the overall structure\n",
    "\n",
    "#printing out column names for future reference\n",
    "print (json_test['dataset_data']['column_names'])\n",
    "\n",
    "#printing out a sample of the data\n",
    "print (json_test['dataset_data']['data'])"
   ]
  },
  {
   "cell_type": "markdown",
   "metadata": {},
   "source": [
    "These are your tasks for this mini project:\n",
    "\n",
    "1. Collect data from the Franfurt Stock Exchange, for the ticker AFX_X, for the whole year 2017 (keep in mind that the date format is YYYY-MM-DD).\n",
    "2. Convert the returned JSON object into a Python dictionary.\n",
    "3. Calculate what the highest and lowest opening prices were for the stock in this period.\n",
    "4. What was the largest change in any one day (based on High and Low price)?\n",
    "5. What was the largest change between any two days (based on Closing Price)?\n",
    "6. What was the average daily trading volume during this year?\n",
    "7. (Optional) What was the median trading volume during this year. (Note: you may need to implement your own function for calculating the median.)"
   ]
  },
  {
   "cell_type": "code",
   "execution_count": 5,
   "metadata": {},
   "outputs": [],
   "source": [
    "#Helper function to pull data and convert to dict\n",
    "#url/start_date/end_date allow for different tickers/dates in api call \n",
    "def pull_quandl_data(url, start_date, end_date):\n",
    "    get_request = requests.get(url + \"&start_date=\" + start_date + \"&end_date=\" + end_date + \"&api_key=\" + API_KEY)\n",
    "    get_request = get_request.json()\n",
    "    return get_request"
   ]
  },
  {
   "cell_type": "code",
   "execution_count": 6,
   "metadata": {},
   "outputs": [],
   "source": [
    "#1 Collect data from the Franfurt Stock Exchange, for the ticker AFX_X, for the whole year 2017 (keep in mind that the date format is YYYY-MM-DD).\n",
    "\n",
    "#defining url for api call\n",
    "AFX_X_url = \"https://www.quandl.com/api/v3/datasets/FSE/AFX_X/data.json?\"\n",
    "\n",
    "#calling helper function to pull 2017 data\n",
    "AFX_X_2017 = pull_quandl_data(AFX_X_url, '2017-01-01', '2017-12-31')"
   ]
  },
  {
   "cell_type": "code",
   "execution_count": 7,
   "metadata": {},
   "outputs": [
    {
     "name": "stdout",
     "output_type": "stream",
     "text": [
      "<class 'dict'>\n"
     ]
    }
   ],
   "source": [
    "#2 Convert the returned JSON object into a Python dictionary.\n",
    "\n",
    "#helper function returns dict\n",
    "print (type(AFX_X_2017))"
   ]
  },
  {
   "cell_type": "code",
   "execution_count": 8,
   "metadata": {},
   "outputs": [
    {
     "name": "stdout",
     "output_type": "stream",
     "text": [
      "dict_keys(['limit', 'transform', 'column_index', 'column_names', 'start_date', 'end_date', 'frequency', 'data', 'collapse', 'order'])\n"
     ]
    }
   ],
   "source": [
    "#printing all keys\n",
    "print (AFX_X_2017['dataset_data'].keys())"
   ]
  },
  {
   "cell_type": "code",
   "execution_count": 9,
   "metadata": {},
   "outputs": [
    {
     "name": "stdout",
     "output_type": "stream",
     "text": [
      "['2017-12-29', 51.76, 51.94, 51.45, 51.76, None, 34640.0, 1792304.0, None, None, None]\n",
      "['2017-12-28', 51.65, 51.82, 51.43, 51.6, None, 40660.0, 2099024.0, None, None, None]\n",
      "['2017-12-27', 51.45, 51.89, 50.76, 51.82, None, 57452.0, 2957018.0, None, None, None]\n",
      "['2017-12-22', 51.05, 51.5, 50.92, 51.32, None, 71165.0, 3641949.0, None, None, None]\n",
      "['2017-12-21', 51.16, 51.52, 50.9, 51.4, None, 120649.0, 6179433.0, None, None, None]\n"
     ]
    }
   ],
   "source": [
    "#printing out first 5 records in 'data' key\n",
    "for j in AFX_X_2017['dataset_data']['data'][0:5]:\n",
    "    print (j)"
   ]
  },
  {
   "cell_type": "code",
   "execution_count": 10,
   "metadata": {},
   "outputs": [
    {
     "name": "stdout",
     "output_type": "stream",
     "text": [
      "Carl Zeiss Meditec's highest price in 2017 was $53.110000\n",
      "Carl Zeiss Meditec's lowest price in 2017 was $34.000000\n"
     ]
    }
   ],
   "source": [
    "#3 Calculate what the highest and lowest opening prices were for the stock in this period.\n",
    "\n",
    "#setting up variables for iteration\n",
    "AFX_high = 0.0\n",
    "AFX_low = 100000.0\n",
    "\n",
    "#Opening price is element 1 in iterated list. Two variables will keep track of highest & lowest opening values\n",
    "for data in AFX_X_2017['dataset_data']['data']:\n",
    "    if type(data[1]) == type(AFX_high): #data contains None values - this if statement is to ignore None values (could also do 'if not None')\n",
    "        if data[1] > AFX_high:\n",
    "            AFX_high = data[1]\n",
    "        if data[1] < AFX_low:\n",
    "            if data[1] == 4.2:\n",
    "                print (data)\n",
    "            AFX_low = data[1]\n",
    "\n",
    "#printing out output\n",
    "print (\"Carl Zeiss Meditec's highest price in 2017 was $%f\" %AFX_high)\n",
    "print (\"Carl Zeiss Meditec's lowest price in 2017 was $%f\" %AFX_low)\n"
   ]
  },
  {
   "cell_type": "code",
   "execution_count": 11,
   "metadata": {},
   "outputs": [
    {
     "name": "stdout",
     "output_type": "stream",
     "text": [
      "Carl Zeiss Meditec's largest change in daily stock price in 2017 was $2.810000\n"
     ]
    }
   ],
   "source": [
    "#4 What was the largest change in any one day (based on High and Low price)?\n",
    "\n",
    "#setting up a variable to track largest change\n",
    "largest_change = 0.0\n",
    "\n",
    "#Per cell 4 abvove - Daily high price is element 2 | Daily low price is element 3\n",
    "#iterating through \n",
    "for data in AFX_X_2017['dataset_data']['data']:\n",
    "    if type(data[2]) == type(largest_change): #ignoring None values\n",
    "        if (data[2] - data[3]) > largest_change:\n",
    "            largest_change = (data[2] - data[3])\n",
    "\n",
    "print (\"Carl Zeiss Meditec's largest change in daily stock price in 2017 was $%f\" %largest_change)\n"
   ]
  },
  {
   "cell_type": "code",
   "execution_count": 12,
   "metadata": {},
   "outputs": [
    {
     "name": "stdout",
     "output_type": "stream",
     "text": [
      "Carl Zeiss Meditec's largest change in stock price between two days in 2017 was $2.560000\n"
     ]
    }
   ],
   "source": [
    "#5 What was the largest change between any two days (based on Closing Price)?\n",
    "\n",
    "#setting up variables to track previous days closing price and the largest change\n",
    "largest_change_2days = 0.0\n",
    "\n",
    "#setting up previous_close to equal the first day of dataset\n",
    "#dataset starts at Dec, no need to reorder\n",
    "previous_close = AFX_X_2017['dataset_data']['data'][0][4]\n",
    "\n",
    "#Per cell 4 abvove - closing price is element 4\n",
    "#If the absolute value of the change in closing price is greater than largest_change_2days - store value in largest_change_2days\n",
    "for data in AFX_X_2017['dataset_data']['data']:\n",
    "    if type(data[1]) == type(largest_change_2days): #ignoring None values\n",
    "        if abs((previous_close - data[4])) > largest_change_2days:\n",
    "            largest_change_2days = abs(previous_close - data[4])\n",
    "    previous_close = data[4]\n",
    "    \n",
    "print (\"Carl Zeiss Meditec's largest change in stock price between two days in 2017 was $%f\" %largest_change_2days)\n"
   ]
  },
  {
   "cell_type": "code",
   "execution_count": 13,
   "metadata": {},
   "outputs": [
    {
     "name": "stdout",
     "output_type": "stream",
     "text": [
      "Carl Zeiss Meditec's average volume this year was 187159\n"
     ]
    }
   ],
   "source": [
    "#6 What was the average daily trading volume during this year?\n",
    "\n",
    "#extract 2019 data using helper function\n",
    "AFX_X_2019 = pull_quandl_data(AFX_X_url, '2019-01-01', '2019-12-31')\n",
    "\n",
    "#list comprehension to pull volumes in 2019 and store in list\n",
    "volume_2019 =  [data[6] for data in AFX_X_2019['dataset_data']['data'] if data[6] is not None]\n",
    "\n",
    "#calculating mean from 2019 volume list\n",
    "avg_volume_2019 = sum(volume_2019) / len(volume_2019)\n",
    "\n",
    "print (\"Carl Zeiss Meditec's average volume this year was %i\" %avg_volume_2019)"
   ]
  },
  {
   "cell_type": "code",
   "execution_count": 14,
   "metadata": {},
   "outputs": [
    {
     "name": "stdout",
     "output_type": "stream",
     "text": [
      "Carl Zeiss Meditec's median volume this year was 140478\n"
     ]
    }
   ],
   "source": [
    "#7 (Optional) What was the median trading volume during this year. (Note: you may need to implement your own function for calculating the median.)\n",
    "\n",
    "#function to extract median\n",
    "#volume traded is sorted from lowest to highest, function then calculates median depending on number of items in list provided\n",
    "def median_volume(volume_traded):\n",
    "    volume_traded.sort()\n",
    "    if len(volume_traded) % 2 == 0:\n",
    "        return (volume_traded[(len(volume_traded) // 2) - 1] + volume_traded[(len(volume_traded) // 2)]) / 2\n",
    "    else:\n",
    "        return volume_traded[len(volume_traded) // 2]\n",
    "\n",
    "print (\"Carl Zeiss Meditec's median volume this year was %i\" %median_volume(volume_2019))\n"
   ]
  }
 ],
 "metadata": {
  "kernelspec": {
   "display_name": "Python 3",
   "language": "python",
   "name": "python3"
  },
  "language_info": {
   "codemirror_mode": {
    "name": "ipython",
    "version": 3
   },
   "file_extension": ".py",
   "mimetype": "text/x-python",
   "name": "python",
   "nbconvert_exporter": "python",
   "pygments_lexer": "ipython3",
   "version": "3.7.3"
  }
 },
 "nbformat": 4,
 "nbformat_minor": 2
}
